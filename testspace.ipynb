{
 "cells": [
  {
   "cell_type": "code",
   "execution_count": 248,
   "id": "bf8562a8-ba16-4f97-be0a-6443284084be",
   "metadata": {
    "tags": []
   },
   "outputs": [],
   "source": [
    "from pyscbwrapper import SCB\n",
    "import pandas as pd\n",
    "import numpy as np\n",
    "import plotly.graph_objects as go"
   ]
  },
  {
   "cell_type": "markdown",
   "id": "dfcf8396-4f98-4245-8262-37d8437e5fd1",
   "metadata": {},
   "source": [
    "## Query first table\n",
    "### Energy sources in sweden since 1986"
   ]
  },
  {
   "cell_type": "code",
   "execution_count": 133,
   "id": "22a5648d-8d85-47ce-b791-c68201b17bee",
   "metadata": {
    "tags": []
   },
   "outputs": [],
   "source": [
    "scb = SCB('sv')\n",
    "scb.go_down('EN')\n",
    "scb.go_down('EN0105')\n",
    "scb.go_down('EN0105A')\n",
    "scb.go_down('ElProdAr')\n",
    "scb.get_variables()\n",
    "scb.set_query(produktionsslag=['total tillförsel av el',\n",
    "                              'vattenkraft',\n",
    "                              'pumpkraft',\n",
    "                              'kärnkraft',\n",
    "                              'konventionell värmekraft, fjärrvärme',\n",
    "                              'konventionell värmekraft, industri',\n",
    "                              'vindkraft',\n",
    "                              'solkraft',\n",
    "                              'konventionell värmekraft, kondensproduktion',\n",
    "                              'konventionell värmekraft, gasturbin- och annan produktion',\n",
    "                              'import'], \n",
    "              tabellinnehåll=['Brutto'], \n",
    "              år=['1986',\n",
    "                  '1987',\n",
    "                  '1988',\n",
    "                  '1989',\n",
    "                  '1990',\n",
    "                  '1991',\n",
    "                  '1992',\n",
    "                  '1993',\n",
    "                  '1994',\n",
    "                  '1995',\n",
    "                  '1996',\n",
    "                  '1997',\n",
    "                  '1998',\n",
    "                  '1999',\n",
    "                  '2000',\n",
    "                  '2001',\n",
    "                  '2002',\n",
    "                  '2003',\n",
    "                  '2004',\n",
    "                  '2005',\n",
    "                  '2006',\n",
    "                  '2007',\n",
    "                  '2008',\n",
    "                  '2009',\n",
    "                  '2010',\n",
    "                  '2011',\n",
    "                  '2012',\n",
    "                  '2013',\n",
    "                  '2014',\n",
    "                  '2015',\n",
    "                  '2016',\n",
    "                  '2017',\n",
    "                  '2018',\n",
    "                  '2019',\n",
    "                  '2020',\n",
    "                  '2021',\n",
    "                  '2022'])\n",
    "scb.get_query()\n",
    "data = scb.get_data()['data']"
   ]
  },
  {
   "cell_type": "code",
   "execution_count": 141,
   "id": "77dcdb9a-0738-4a63-b296-5ab7ea628283",
   "metadata": {
    "tags": []
   },
   "outputs": [],
   "source": [
    "# Convert to DataFrame\n",
    "df = pd.DataFrame(data)\n",
    "\n",
    "# Split the 'key' column into separate columns\n",
    "df[['category', 'year']] = pd.DataFrame(df['key'].tolist(), index=df.index)\n",
    "\n",
    "# Drop the original 'key' column\n",
    "df.drop('key', axis=1, inplace=True)\n",
    "\n",
    "# Rename the 'values' column\n",
    "df.rename(columns={'values': 'value'}, inplace=True)\n",
    "\n",
    "# Replace '..' with 0\n",
    "df['value'] = df['value'].apply(lambda x: float(x[0]) if x[0] != '..' else 0)\n",
    "\n",
    "# Convert the column to float type\n",
    "df['value'] = df['value'].astype(float)\n",
    "\n",
    "# Create Pivot table\n",
    "pivot_df = df.pivot_table(index='year', columns='category', values='value')\n",
    "\n",
    "# Rename columns\n",
    "pivot_df.columns=['Gas Turbines', 'Import', 'Nuclear', 'Condensing Turbines', 'Main Activity Producer CHP', 'Autoproducer CHP',\n",
    "       'Pumped Storage', 'Sum of Supply (GWh)', 'Hydro', 'Wind', 'Solar']\n",
    "\n",
    "# Save with proper name\n",
    "sweden_energy = pivot_df\n"
   ]
  },
  {
   "cell_type": "code",
   "execution_count": 142,
   "id": "ec080817-ce40-4c65-983a-cf134ec3e2f7",
   "metadata": {
    "tags": []
   },
   "outputs": [
    {
     "data": {
      "text/html": [
       "<div>\n",
       "<style scoped>\n",
       "    .dataframe tbody tr th:only-of-type {\n",
       "        vertical-align: middle;\n",
       "    }\n",
       "\n",
       "    .dataframe tbody tr th {\n",
       "        vertical-align: top;\n",
       "    }\n",
       "\n",
       "    .dataframe thead th {\n",
       "        text-align: right;\n",
       "    }\n",
       "</style>\n",
       "<table border=\"1\" class=\"dataframe\">\n",
       "  <thead>\n",
       "    <tr style=\"text-align: right;\">\n",
       "      <th></th>\n",
       "      <th>Gas Turbines</th>\n",
       "      <th>Import</th>\n",
       "      <th>Nuclear</th>\n",
       "      <th>Condensing Turbines</th>\n",
       "      <th>Main Activity Producer CHP</th>\n",
       "      <th>Autoproducer CHP</th>\n",
       "      <th>Pumped Storage</th>\n",
       "      <th>Sum of Supply (GWh)</th>\n",
       "      <th>Hydro</th>\n",
       "      <th>Wind</th>\n",
       "      <th>Solar</th>\n",
       "    </tr>\n",
       "    <tr>\n",
       "      <th>year</th>\n",
       "      <th></th>\n",
       "      <th></th>\n",
       "      <th></th>\n",
       "      <th></th>\n",
       "      <th></th>\n",
       "      <th></th>\n",
       "      <th></th>\n",
       "      <th></th>\n",
       "      <th></th>\n",
       "      <th></th>\n",
       "      <th></th>\n",
       "    </tr>\n",
       "  </thead>\n",
       "  <tbody>\n",
       "    <tr>\n",
       "      <th>1986</th>\n",
       "      <td>64.0</td>\n",
       "      <td>1835.0</td>\n",
       "      <td>69951.0</td>\n",
       "      <td>690.0</td>\n",
       "      <td>3550.0</td>\n",
       "      <td>2896.0</td>\n",
       "      <td>567.0</td>\n",
       "      <td>140486.0</td>\n",
       "      <td>60933.0</td>\n",
       "      <td>0.0</td>\n",
       "      <td>0.0</td>\n",
       "    </tr>\n",
       "    <tr>\n",
       "      <th>1987</th>\n",
       "      <td>81.0</td>\n",
       "      <td>2174.0</td>\n",
       "      <td>67385.0</td>\n",
       "      <td>509.0</td>\n",
       "      <td>3311.0</td>\n",
       "      <td>2837.0</td>\n",
       "      <td>594.0</td>\n",
       "      <td>148745.0</td>\n",
       "      <td>71854.0</td>\n",
       "      <td>0.0</td>\n",
       "      <td>0.0</td>\n",
       "    </tr>\n",
       "    <tr>\n",
       "      <th>1988</th>\n",
       "      <td>61.0</td>\n",
       "      <td>5064.0</td>\n",
       "      <td>69424.0</td>\n",
       "      <td>462.0</td>\n",
       "      <td>2861.0</td>\n",
       "      <td>2950.0</td>\n",
       "      <td>589.0</td>\n",
       "      <td>151294.0</td>\n",
       "      <td>69883.0</td>\n",
       "      <td>0.0</td>\n",
       "      <td>0.0</td>\n",
       "    </tr>\n",
       "    <tr>\n",
       "      <th>1989</th>\n",
       "      <td>85.0</td>\n",
       "      <td>12053.0</td>\n",
       "      <td>65603.0</td>\n",
       "      <td>278.0</td>\n",
       "      <td>2310.0</td>\n",
       "      <td>2889.0</td>\n",
       "      <td>175.0</td>\n",
       "      <td>155144.0</td>\n",
       "      <td>71750.0</td>\n",
       "      <td>0.0</td>\n",
       "      <td>0.0</td>\n",
       "    </tr>\n",
       "    <tr>\n",
       "      <th>1990</th>\n",
       "      <td>55.0</td>\n",
       "      <td>12909.0</td>\n",
       "      <td>68185.0</td>\n",
       "      <td>288.0</td>\n",
       "      <td>2290.0</td>\n",
       "      <td>2650.0</td>\n",
       "      <td>530.0</td>\n",
       "      <td>159417.0</td>\n",
       "      <td>72509.0</td>\n",
       "      <td>0.0</td>\n",
       "      <td>0.0</td>\n",
       "    </tr>\n",
       "    <tr>\n",
       "      <th>1991</th>\n",
       "      <td>64.0</td>\n",
       "      <td>6225.0</td>\n",
       "      <td>76761.0</td>\n",
       "      <td>366.0</td>\n",
       "      <td>3540.0</td>\n",
       "      <td>2978.0</td>\n",
       "      <td>426.0</td>\n",
       "      <td>153609.0</td>\n",
       "      <td>63249.0</td>\n",
       "      <td>0.0</td>\n",
       "      <td>0.0</td>\n",
       "    </tr>\n",
       "    <tr>\n",
       "      <th>1992</th>\n",
       "      <td>98.0</td>\n",
       "      <td>8847.0</td>\n",
       "      <td>63544.0</td>\n",
       "      <td>611.0</td>\n",
       "      <td>4136.0</td>\n",
       "      <td>3164.0</td>\n",
       "      <td>529.0</td>\n",
       "      <td>155292.0</td>\n",
       "      <td>74364.0</td>\n",
       "      <td>0.0</td>\n",
       "      <td>0.0</td>\n",
       "    </tr>\n",
       "    <tr>\n",
       "      <th>1993</th>\n",
       "      <td>145.0</td>\n",
       "      <td>7979.0</td>\n",
       "      <td>61395.0</td>\n",
       "      <td>463.0</td>\n",
       "      <td>4929.0</td>\n",
       "      <td>3616.0</td>\n",
       "      <td>565.0</td>\n",
       "      <td>153791.0</td>\n",
       "      <td>74647.0</td>\n",
       "      <td>52.0</td>\n",
       "      <td>0.0</td>\n",
       "    </tr>\n",
       "    <tr>\n",
       "      <th>1994</th>\n",
       "      <td>147.0</td>\n",
       "      <td>6680.0</td>\n",
       "      <td>73156.0</td>\n",
       "      <td>966.0</td>\n",
       "      <td>5325.0</td>\n",
       "      <td>3920.0</td>\n",
       "      <td>353.0</td>\n",
       "      <td>149718.0</td>\n",
       "      <td>59097.0</td>\n",
       "      <td>75.0</td>\n",
       "      <td>0.0</td>\n",
       "    </tr>\n",
       "    <tr>\n",
       "      <th>1995</th>\n",
       "      <td>96.0</td>\n",
       "      <td>7720.0</td>\n",
       "      <td>69935.0</td>\n",
       "      <td>473.0</td>\n",
       "      <td>5658.0</td>\n",
       "      <td>3928.0</td>\n",
       "      <td>58.0</td>\n",
       "      <td>156070.0</td>\n",
       "      <td>68096.0</td>\n",
       "      <td>105.0</td>\n",
       "      <td>0.0</td>\n",
       "    </tr>\n",
       "    <tr>\n",
       "      <th>1996</th>\n",
       "      <td>17.0</td>\n",
       "      <td>15885.0</td>\n",
       "      <td>74274.0</td>\n",
       "      <td>3869.0</td>\n",
       "      <td>6450.0</td>\n",
       "      <td>4103.0</td>\n",
       "      <td>35.0</td>\n",
       "      <td>156518.0</td>\n",
       "      <td>51740.0</td>\n",
       "      <td>144.0</td>\n",
       "      <td>0.0</td>\n",
       "    </tr>\n",
       "    <tr>\n",
       "      <th>1997</th>\n",
       "      <td>9.0</td>\n",
       "      <td>10252.0</td>\n",
       "      <td>69928.0</td>\n",
       "      <td>453.0</td>\n",
       "      <td>5472.0</td>\n",
       "      <td>4286.0</td>\n",
       "      <td>43.0</td>\n",
       "      <td>159659.0</td>\n",
       "      <td>69056.0</td>\n",
       "      <td>203.0</td>\n",
       "      <td>0.0</td>\n",
       "    </tr>\n",
       "    <tr>\n",
       "      <th>1998</th>\n",
       "      <td>8.0</td>\n",
       "      <td>6102.0</td>\n",
       "      <td>73583.0</td>\n",
       "      <td>279.0</td>\n",
       "      <td>5991.0</td>\n",
       "      <td>4052.0</td>\n",
       "      <td>40.0</td>\n",
       "      <td>165105.0</td>\n",
       "      <td>74743.0</td>\n",
       "      <td>308.0</td>\n",
       "      <td>0.0</td>\n",
       "    </tr>\n",
       "    <tr>\n",
       "      <th>1999</th>\n",
       "      <td>11.0</td>\n",
       "      <td>8456.0</td>\n",
       "      <td>73188.0</td>\n",
       "      <td>309.0</td>\n",
       "      <td>5516.0</td>\n",
       "      <td>4063.0</td>\n",
       "      <td>22.0</td>\n",
       "      <td>163615.0</td>\n",
       "      <td>71691.0</td>\n",
       "      <td>358.0</td>\n",
       "      <td>0.0</td>\n",
       "    </tr>\n",
       "    <tr>\n",
       "      <th>2000</th>\n",
       "      <td>35.0</td>\n",
       "      <td>18309.0</td>\n",
       "      <td>57316.0</td>\n",
       "      <td>305.0</td>\n",
       "      <td>4545.0</td>\n",
       "      <td>4307.0</td>\n",
       "      <td>35.0</td>\n",
       "      <td>163893.0</td>\n",
       "      <td>78584.0</td>\n",
       "      <td>457.0</td>\n",
       "      <td>0.0</td>\n",
       "    </tr>\n",
       "    <tr>\n",
       "      <th>2001</th>\n",
       "      <td>31.0</td>\n",
       "      <td>11164.0</td>\n",
       "      <td>72109.0</td>\n",
       "      <td>474.0</td>\n",
       "      <td>5369.0</td>\n",
       "      <td>4067.0</td>\n",
       "      <td>22.0</td>\n",
       "      <td>172779.0</td>\n",
       "      <td>79061.0</td>\n",
       "      <td>482.0</td>\n",
       "      <td>0.0</td>\n",
       "    </tr>\n",
       "    <tr>\n",
       "      <th>2002</th>\n",
       "      <td>37.0</td>\n",
       "      <td>20110.0</td>\n",
       "      <td>68111.0</td>\n",
       "      <td>1065.0</td>\n",
       "      <td>5824.0</td>\n",
       "      <td>4692.0</td>\n",
       "      <td>35.0</td>\n",
       "      <td>166842.0</td>\n",
       "      <td>66358.0</td>\n",
       "      <td>608.0</td>\n",
       "      <td>0.0</td>\n",
       "    </tr>\n",
       "    <tr>\n",
       "      <th>2003</th>\n",
       "      <td>127.0</td>\n",
       "      <td>24286.0</td>\n",
       "      <td>67415.0</td>\n",
       "      <td>1940.0</td>\n",
       "      <td>6901.0</td>\n",
       "      <td>4775.0</td>\n",
       "      <td>58.0</td>\n",
       "      <td>159721.0</td>\n",
       "      <td>53540.0</td>\n",
       "      <td>679.0</td>\n",
       "      <td>0.0</td>\n",
       "    </tr>\n",
       "    <tr>\n",
       "      <th>2004</th>\n",
       "      <td>7.0</td>\n",
       "      <td>15646.0</td>\n",
       "      <td>77671.0</td>\n",
       "      <td>915.0</td>\n",
       "      <td>7615.0</td>\n",
       "      <td>4766.0</td>\n",
       "      <td>43.0</td>\n",
       "      <td>168100.0</td>\n",
       "      <td>60588.0</td>\n",
       "      <td>850.0</td>\n",
       "      <td>0.0</td>\n",
       "    </tr>\n",
       "    <tr>\n",
       "      <th>2005</th>\n",
       "      <td>31.0</td>\n",
       "      <td>14574.0</td>\n",
       "      <td>72691.0</td>\n",
       "      <td>734.0</td>\n",
       "      <td>6914.0</td>\n",
       "      <td>4977.0</td>\n",
       "      <td>71.0</td>\n",
       "      <td>173634.0</td>\n",
       "      <td>72692.0</td>\n",
       "      <td>949.0</td>\n",
       "      <td>0.0</td>\n",
       "    </tr>\n",
       "    <tr>\n",
       "      <th>2006</th>\n",
       "      <td>12.0</td>\n",
       "      <td>17547.0</td>\n",
       "      <td>66977.0</td>\n",
       "      <td>776.0</td>\n",
       "      <td>7512.0</td>\n",
       "      <td>5328.0</td>\n",
       "      <td>69.0</td>\n",
       "      <td>160847.0</td>\n",
       "      <td>61638.0</td>\n",
       "      <td>988.0</td>\n",
       "      <td>0.0</td>\n",
       "    </tr>\n",
       "    <tr>\n",
       "      <th>2007</th>\n",
       "      <td>27.0</td>\n",
       "      <td>16051.0</td>\n",
       "      <td>66969.0</td>\n",
       "      <td>528.0</td>\n",
       "      <td>7607.0</td>\n",
       "      <td>5914.0</td>\n",
       "      <td>102.0</td>\n",
       "      <td>164793.0</td>\n",
       "      <td>66163.0</td>\n",
       "      <td>1432.0</td>\n",
       "      <td>0.0</td>\n",
       "    </tr>\n",
       "    <tr>\n",
       "      <th>2008</th>\n",
       "      <td>20.0</td>\n",
       "      <td>12754.0</td>\n",
       "      <td>63889.0</td>\n",
       "      <td>690.0</td>\n",
       "      <td>7670.0</td>\n",
       "      <td>6283.0</td>\n",
       "      <td>105.0</td>\n",
       "      <td>162404.0</td>\n",
       "      <td>68997.0</td>\n",
       "      <td>1996.0</td>\n",
       "      <td>0.0</td>\n",
       "    </tr>\n",
       "    <tr>\n",
       "      <th>2009</th>\n",
       "      <td>18.0</td>\n",
       "      <td>13771.0</td>\n",
       "      <td>52173.0</td>\n",
       "      <td>460.0</td>\n",
       "      <td>9828.0</td>\n",
       "      <td>6107.0</td>\n",
       "      <td>196.0</td>\n",
       "      <td>150452.0</td>\n",
       "      <td>65414.0</td>\n",
       "      <td>2485.0</td>\n",
       "      <td>0.0</td>\n",
       "    </tr>\n",
       "    <tr>\n",
       "      <th>2010</th>\n",
       "      <td>22.0</td>\n",
       "      <td>14932.0</td>\n",
       "      <td>57728.0</td>\n",
       "      <td>535.0</td>\n",
       "      <td>12721.0</td>\n",
       "      <td>6468.0</td>\n",
       "      <td>103.0</td>\n",
       "      <td>163187.0</td>\n",
       "      <td>67176.0</td>\n",
       "      <td>3502.0</td>\n",
       "      <td>0.0</td>\n",
       "    </tr>\n",
       "    <tr>\n",
       "      <th>2011</th>\n",
       "      <td>10.0</td>\n",
       "      <td>12481.0</td>\n",
       "      <td>60475.0</td>\n",
       "      <td>830.0</td>\n",
       "      <td>10549.0</td>\n",
       "      <td>6000.0</td>\n",
       "      <td>122.0</td>\n",
       "      <td>163644.0</td>\n",
       "      <td>67064.0</td>\n",
       "      <td>6101.0</td>\n",
       "      <td>13.0</td>\n",
       "    </tr>\n",
       "    <tr>\n",
       "      <th>2012</th>\n",
       "      <td>12.0</td>\n",
       "      <td>11680.0</td>\n",
       "      <td>64037.0</td>\n",
       "      <td>329.0</td>\n",
       "      <td>9341.0</td>\n",
       "      <td>6333.0</td>\n",
       "      <td>126.0</td>\n",
       "      <td>177982.0</td>\n",
       "      <td>78939.0</td>\n",
       "      <td>7165.0</td>\n",
       "      <td>19.0</td>\n",
       "    </tr>\n",
       "    <tr>\n",
       "      <th>2013</th>\n",
       "      <td>11.0</td>\n",
       "      <td>12674.0</td>\n",
       "      <td>66457.0</td>\n",
       "      <td>311.0</td>\n",
       "      <td>9159.0</td>\n",
       "      <td>5844.0</td>\n",
       "      <td>135.0</td>\n",
       "      <td>165829.0</td>\n",
       "      <td>61361.0</td>\n",
       "      <td>9842.0</td>\n",
       "      <td>35.0</td>\n",
       "    </tr>\n",
       "    <tr>\n",
       "      <th>2014</th>\n",
       "      <td>12.0</td>\n",
       "      <td>13852.0</td>\n",
       "      <td>64877.0</td>\n",
       "      <td>426.0</td>\n",
       "      <td>7410.0</td>\n",
       "      <td>5785.0</td>\n",
       "      <td>108.0</td>\n",
       "      <td>167514.0</td>\n",
       "      <td>63763.0</td>\n",
       "      <td>11234.0</td>\n",
       "      <td>47.0</td>\n",
       "    </tr>\n",
       "    <tr>\n",
       "      <th>2015</th>\n",
       "      <td>11.0</td>\n",
       "      <td>9294.0</td>\n",
       "      <td>56348.0</td>\n",
       "      <td>235.0</td>\n",
       "      <td>7843.0</td>\n",
       "      <td>5816.0</td>\n",
       "      <td>127.0</td>\n",
       "      <td>171352.0</td>\n",
       "      <td>75312.0</td>\n",
       "      <td>16268.0</td>\n",
       "      <td>97.0</td>\n",
       "    </tr>\n",
       "    <tr>\n",
       "      <th>2016</th>\n",
       "      <td>14.0</td>\n",
       "      <td>14287.0</td>\n",
       "      <td>63101.0</td>\n",
       "      <td>288.0</td>\n",
       "      <td>9122.0</td>\n",
       "      <td>5727.0</td>\n",
       "      <td>119.0</td>\n",
       "      <td>170418.0</td>\n",
       "      <td>62137.0</td>\n",
       "      <td>15479.0</td>\n",
       "      <td>143.0</td>\n",
       "    </tr>\n",
       "    <tr>\n",
       "      <th>2017</th>\n",
       "      <td>8.0</td>\n",
       "      <td>11896.0</td>\n",
       "      <td>65696.0</td>\n",
       "      <td>318.0</td>\n",
       "      <td>9018.0</td>\n",
       "      <td>6203.0</td>\n",
       "      <td>102.0</td>\n",
       "      <td>176146.0</td>\n",
       "      <td>65066.0</td>\n",
       "      <td>17609.0</td>\n",
       "      <td>230.0</td>\n",
       "    </tr>\n",
       "    <tr>\n",
       "      <th>2018</th>\n",
       "      <td>18.0</td>\n",
       "      <td>12202.0</td>\n",
       "      <td>68549.0</td>\n",
       "      <td>300.0</td>\n",
       "      <td>9126.0</td>\n",
       "      <td>6128.0</td>\n",
       "      <td>100.0</td>\n",
       "      <td>175586.0</td>\n",
       "      <td>62150.0</td>\n",
       "      <td>16623.0</td>\n",
       "      <td>391.0</td>\n",
       "    </tr>\n",
       "    <tr>\n",
       "      <th>2019</th>\n",
       "      <td>10.0</td>\n",
       "      <td>9070.0</td>\n",
       "      <td>66130.0</td>\n",
       "      <td>174.0</td>\n",
       "      <td>9247.0</td>\n",
       "      <td>6959.0</td>\n",
       "      <td>93.0</td>\n",
       "      <td>177493.0</td>\n",
       "      <td>65300.0</td>\n",
       "      <td>19847.0</td>\n",
       "      <td>663.0</td>\n",
       "    </tr>\n",
       "    <tr>\n",
       "      <th>2020</th>\n",
       "      <td>13.0</td>\n",
       "      <td>11827.0</td>\n",
       "      <td>49198.0</td>\n",
       "      <td>281.0</td>\n",
       "      <td>6715.0</td>\n",
       "      <td>6609.0</td>\n",
       "      <td>149.0</td>\n",
       "      <td>175644.0</td>\n",
       "      <td>72290.0</td>\n",
       "      <td>27526.0</td>\n",
       "      <td>1035.0</td>\n",
       "    </tr>\n",
       "    <tr>\n",
       "      <th>2021</th>\n",
       "      <td>24.0</td>\n",
       "      <td>8341.0</td>\n",
       "      <td>52965.0</td>\n",
       "      <td>388.0</td>\n",
       "      <td>8831.0</td>\n",
       "      <td>6894.0</td>\n",
       "      <td>127.0</td>\n",
       "      <td>180120.0</td>\n",
       "      <td>73799.0</td>\n",
       "      <td>27244.0</td>\n",
       "      <td>1507.0</td>\n",
       "    </tr>\n",
       "    <tr>\n",
       "      <th>2022</th>\n",
       "      <td>14.0</td>\n",
       "      <td>6181.0</td>\n",
       "      <td>51944.0</td>\n",
       "      <td>453.0</td>\n",
       "      <td>8553.0</td>\n",
       "      <td>6995.0</td>\n",
       "      <td>157.0</td>\n",
       "      <td>179323.0</td>\n",
       "      <td>69810.0</td>\n",
       "      <td>33253.0</td>\n",
       "      <td>1963.0</td>\n",
       "    </tr>\n",
       "  </tbody>\n",
       "</table>\n",
       "</div>"
      ],
      "text/plain": [
       "      Gas Turbines   Import  Nuclear  Condensing Turbines  \\\n",
       "year                                                        \n",
       "1986          64.0   1835.0  69951.0                690.0   \n",
       "1987          81.0   2174.0  67385.0                509.0   \n",
       "1988          61.0   5064.0  69424.0                462.0   \n",
       "1989          85.0  12053.0  65603.0                278.0   \n",
       "1990          55.0  12909.0  68185.0                288.0   \n",
       "1991          64.0   6225.0  76761.0                366.0   \n",
       "1992          98.0   8847.0  63544.0                611.0   \n",
       "1993         145.0   7979.0  61395.0                463.0   \n",
       "1994         147.0   6680.0  73156.0                966.0   \n",
       "1995          96.0   7720.0  69935.0                473.0   \n",
       "1996          17.0  15885.0  74274.0               3869.0   \n",
       "1997           9.0  10252.0  69928.0                453.0   \n",
       "1998           8.0   6102.0  73583.0                279.0   \n",
       "1999          11.0   8456.0  73188.0                309.0   \n",
       "2000          35.0  18309.0  57316.0                305.0   \n",
       "2001          31.0  11164.0  72109.0                474.0   \n",
       "2002          37.0  20110.0  68111.0               1065.0   \n",
       "2003         127.0  24286.0  67415.0               1940.0   \n",
       "2004           7.0  15646.0  77671.0                915.0   \n",
       "2005          31.0  14574.0  72691.0                734.0   \n",
       "2006          12.0  17547.0  66977.0                776.0   \n",
       "2007          27.0  16051.0  66969.0                528.0   \n",
       "2008          20.0  12754.0  63889.0                690.0   \n",
       "2009          18.0  13771.0  52173.0                460.0   \n",
       "2010          22.0  14932.0  57728.0                535.0   \n",
       "2011          10.0  12481.0  60475.0                830.0   \n",
       "2012          12.0  11680.0  64037.0                329.0   \n",
       "2013          11.0  12674.0  66457.0                311.0   \n",
       "2014          12.0  13852.0  64877.0                426.0   \n",
       "2015          11.0   9294.0  56348.0                235.0   \n",
       "2016          14.0  14287.0  63101.0                288.0   \n",
       "2017           8.0  11896.0  65696.0                318.0   \n",
       "2018          18.0  12202.0  68549.0                300.0   \n",
       "2019          10.0   9070.0  66130.0                174.0   \n",
       "2020          13.0  11827.0  49198.0                281.0   \n",
       "2021          24.0   8341.0  52965.0                388.0   \n",
       "2022          14.0   6181.0  51944.0                453.0   \n",
       "\n",
       "      Main Activity Producer CHP  Autoproducer CHP  Pumped Storage  \\\n",
       "year                                                                 \n",
       "1986                      3550.0            2896.0           567.0   \n",
       "1987                      3311.0            2837.0           594.0   \n",
       "1988                      2861.0            2950.0           589.0   \n",
       "1989                      2310.0            2889.0           175.0   \n",
       "1990                      2290.0            2650.0           530.0   \n",
       "1991                      3540.0            2978.0           426.0   \n",
       "1992                      4136.0            3164.0           529.0   \n",
       "1993                      4929.0            3616.0           565.0   \n",
       "1994                      5325.0            3920.0           353.0   \n",
       "1995                      5658.0            3928.0            58.0   \n",
       "1996                      6450.0            4103.0            35.0   \n",
       "1997                      5472.0            4286.0            43.0   \n",
       "1998                      5991.0            4052.0            40.0   \n",
       "1999                      5516.0            4063.0            22.0   \n",
       "2000                      4545.0            4307.0            35.0   \n",
       "2001                      5369.0            4067.0            22.0   \n",
       "2002                      5824.0            4692.0            35.0   \n",
       "2003                      6901.0            4775.0            58.0   \n",
       "2004                      7615.0            4766.0            43.0   \n",
       "2005                      6914.0            4977.0            71.0   \n",
       "2006                      7512.0            5328.0            69.0   \n",
       "2007                      7607.0            5914.0           102.0   \n",
       "2008                      7670.0            6283.0           105.0   \n",
       "2009                      9828.0            6107.0           196.0   \n",
       "2010                     12721.0            6468.0           103.0   \n",
       "2011                     10549.0            6000.0           122.0   \n",
       "2012                      9341.0            6333.0           126.0   \n",
       "2013                      9159.0            5844.0           135.0   \n",
       "2014                      7410.0            5785.0           108.0   \n",
       "2015                      7843.0            5816.0           127.0   \n",
       "2016                      9122.0            5727.0           119.0   \n",
       "2017                      9018.0            6203.0           102.0   \n",
       "2018                      9126.0            6128.0           100.0   \n",
       "2019                      9247.0            6959.0            93.0   \n",
       "2020                      6715.0            6609.0           149.0   \n",
       "2021                      8831.0            6894.0           127.0   \n",
       "2022                      8553.0            6995.0           157.0   \n",
       "\n",
       "      Sum of Supply (GWh)    Hydro     Wind   Solar  \n",
       "year                                                 \n",
       "1986             140486.0  60933.0      0.0     0.0  \n",
       "1987             148745.0  71854.0      0.0     0.0  \n",
       "1988             151294.0  69883.0      0.0     0.0  \n",
       "1989             155144.0  71750.0      0.0     0.0  \n",
       "1990             159417.0  72509.0      0.0     0.0  \n",
       "1991             153609.0  63249.0      0.0     0.0  \n",
       "1992             155292.0  74364.0      0.0     0.0  \n",
       "1993             153791.0  74647.0     52.0     0.0  \n",
       "1994             149718.0  59097.0     75.0     0.0  \n",
       "1995             156070.0  68096.0    105.0     0.0  \n",
       "1996             156518.0  51740.0    144.0     0.0  \n",
       "1997             159659.0  69056.0    203.0     0.0  \n",
       "1998             165105.0  74743.0    308.0     0.0  \n",
       "1999             163615.0  71691.0    358.0     0.0  \n",
       "2000             163893.0  78584.0    457.0     0.0  \n",
       "2001             172779.0  79061.0    482.0     0.0  \n",
       "2002             166842.0  66358.0    608.0     0.0  \n",
       "2003             159721.0  53540.0    679.0     0.0  \n",
       "2004             168100.0  60588.0    850.0     0.0  \n",
       "2005             173634.0  72692.0    949.0     0.0  \n",
       "2006             160847.0  61638.0    988.0     0.0  \n",
       "2007             164793.0  66163.0   1432.0     0.0  \n",
       "2008             162404.0  68997.0   1996.0     0.0  \n",
       "2009             150452.0  65414.0   2485.0     0.0  \n",
       "2010             163187.0  67176.0   3502.0     0.0  \n",
       "2011             163644.0  67064.0   6101.0    13.0  \n",
       "2012             177982.0  78939.0   7165.0    19.0  \n",
       "2013             165829.0  61361.0   9842.0    35.0  \n",
       "2014             167514.0  63763.0  11234.0    47.0  \n",
       "2015             171352.0  75312.0  16268.0    97.0  \n",
       "2016             170418.0  62137.0  15479.0   143.0  \n",
       "2017             176146.0  65066.0  17609.0   230.0  \n",
       "2018             175586.0  62150.0  16623.0   391.0  \n",
       "2019             177493.0  65300.0  19847.0   663.0  \n",
       "2020             175644.0  72290.0  27526.0  1035.0  \n",
       "2021             180120.0  73799.0  27244.0  1507.0  \n",
       "2022             179323.0  69810.0  33253.0  1963.0  "
      ]
     },
     "execution_count": 142,
     "metadata": {},
     "output_type": "execute_result"
    }
   ],
   "source": [
    "sweden_energy # GWh"
   ]
  },
  {
   "cell_type": "markdown",
   "id": "dad5eab9-93d5-4304-95c4-6a16ff5cf95b",
   "metadata": {
    "tags": []
   },
   "source": [
    "## Getting Age data"
   ]
  },
  {
   "cell_type": "code",
   "execution_count": 249,
   "id": "7628e91f-9813-4a3c-b3f8-51b28ab75338",
   "metadata": {
    "tags": []
   },
   "outputs": [],
   "source": [
    "scb = SCB('sv')\n",
    "scb.go_down('BE')\n",
    "scb.go_down('BE0101')\n",
    "scb.go_down('BE0101B')\n",
    "scb.go_down('BefolkMedianAlder')\n",
    "scb.get_variables()\n",
    "scb.set_query(kön=['män','kvinnor','totalt'],\n",
    "              tabellinnehåll=['Medelålder', 'Medianålder'], \n",
    "              år=['1968',\n",
    "                  '1969',\n",
    "                  '1970',\n",
    "                  '1971',\n",
    "                  '1972',\n",
    "                  '1973',\n",
    "                  '1974',\n",
    "                  '1975',\n",
    "                  '1976',\n",
    "                  '1977',\n",
    "                  '1978',\n",
    "                  '1979',\n",
    "                  '1980',\n",
    "                  '1981',\n",
    "                  '1982',\n",
    "                  '1983',\n",
    "                  '1984',\n",
    "                  '1985',\n",
    "                  '1986',\n",
    "                  '1987',\n",
    "                  '1988',\n",
    "                  '1989',\n",
    "                  '1990',\n",
    "                  '1991',\n",
    "                  '1992',\n",
    "                  '1993',\n",
    "                  '1994',\n",
    "                  '1995',\n",
    "                  '1996',\n",
    "                  '1997',\n",
    "                  '1998',\n",
    "                  '1999',\n",
    "                  '2000',\n",
    "                  '2001',\n",
    "                  '2002',\n",
    "                  '2003',\n",
    "                  '2004',\n",
    "                  '2005',\n",
    "                  '2006',\n",
    "                  '2007',\n",
    "                  '2008',\n",
    "                  '2009',\n",
    "                  '2010',\n",
    "                  '2011',\n",
    "                  '2012',\n",
    "                  '2013',\n",
    "                  '2014',\n",
    "                  '2015',\n",
    "                  '2016',\n",
    "                  '2017',\n",
    "                  '2018',\n",
    "                  '2019',\n",
    "                  '2020',\n",
    "                  '2021',\n",
    "                  '2022',\n",
    "                  '2023'])\n",
    "scb.get_query()\n",
    "data = scb.get_data()['data']"
   ]
  },
  {
   "cell_type": "code",
   "execution_count": 256,
   "id": "4e0edae8-dc34-48f0-9f7a-714e5534eddd",
   "metadata": {
    "scrolled": true,
    "tags": []
   },
   "outputs": [
    {
     "name": "stdout",
     "output_type": "stream",
     "text": [
      "<class 'pandas.core.frame.DataFrame'>\n",
      "RangeIndex: 168 entries, 0 to 167\n",
      "Data columns (total 4 columns):\n",
      " #   Column      Non-Null Count  Dtype  \n",
      "---  ------      --------------  -----  \n",
      " 0   category    168 non-null    object \n",
      " 1   year        168 non-null    int64  \n",
      " 2   mean_age    168 non-null    float64\n",
      " 3   median_age  168 non-null    float64\n",
      "dtypes: float64(2), int64(1), object(1)\n",
      "memory usage: 5.4+ KB\n"
     ]
    }
   ],
   "source": [
    "# Convert to DataFrame\n",
    "df = pd.DataFrame(data)\n",
    "\n",
    "# Split the 'key' column into separate columns\n",
    "df[['category', 'year']] = pd.DataFrame(df['key'].tolist(), index=df.index)\n",
    "\n",
    "# Drop the original 'key' column\n",
    "df.drop('key', axis=1, inplace=True)\n",
    "\n",
    "# Extract mean age and median age from the 'values' column\n",
    "df['mean_age'] = df['values'].apply(lambda x: float(x[0]) if x[0] != '..' else np.nan)\n",
    "df['median_age'] = df['values'].apply(lambda x: float(x[1]) if x[1] != '..' else np.nan)\n",
    "\n",
    "# Drop the original 'values' column\n",
    "df.drop('values', axis=1, inplace=True)\n",
    "df['year'] = df['year'].astype(int)\n",
    "# Rename categories\n",
    "category_mapping = {'1': 'Male', '1+2': 'Total', '2': 'Female'}\n",
    "df['category'] = df['category'].map(category_mapping)\n",
    "\n",
    "# Create Pivot table\n",
    "pivot_df = df.pivot_table(index='year', columns='category')\n",
    "\n",
    "sweden_age_pivot = pivot_df\n",
    "sweden_age = df\n",
    "df.info()"
   ]
  },
  {
   "cell_type": "markdown",
   "id": "035c3273-fcfd-4a29-b634-2a24e7aa1068",
   "metadata": {
    "tags": []
   },
   "source": [
    "## Sorting Healthcare dataframe"
   ]
  },
  {
   "cell_type": "code",
   "execution_count": 212,
   "id": "5abca1c2-60de-44b1-994a-ba870deb9028",
   "metadata": {
    "tags": []
   },
   "outputs": [],
   "source": [
    "scb = SCB('sv')\n",
    "scb.go_down('NR')\n",
    "scb.go_down('NR0109')\n",
    "scb.go_down('HCBNP')\n",
    "scb.set_query(tabellinnehål=['Totala hälso- och sjukvårdsutgifter, mnkr',\n",
    "                              'BNP till marknadspris, mnkr',\n",
    "                              'BNP relationstal, procent'],\n",
    "              år=['2001',\n",
    "                  '2002',\n",
    "                  '2003',\n",
    "                  '2004',\n",
    "                  '2005',\n",
    "                  '2006',\n",
    "                  '2007',\n",
    "                  '2008',\n",
    "                  '2009',\n",
    "                  '2010',\n",
    "                  '2011',\n",
    "                  '2012',\n",
    "                  '2013',\n",
    "                  '2014',\n",
    "                  '2015',\n",
    "                  '2016',\n",
    "                  '2017',\n",
    "                  '2018',\n",
    "                  '2019',\n",
    "                  '2020',\n",
    "                  '2021',\n",
    "                  '2022'])\n",
    "scb.get_query()\n",
    "data = scb.get_data()['data']"
   ]
  },
  {
   "cell_type": "code",
   "execution_count": 213,
   "id": "22c0dce9-4ae1-4375-a8f7-613710587a92",
   "metadata": {
    "tags": []
   },
   "outputs": [
    {
     "data": {
      "text/html": [
       "<div>\n",
       "<style scoped>\n",
       "    .dataframe tbody tr th:only-of-type {\n",
       "        vertical-align: middle;\n",
       "    }\n",
       "\n",
       "    .dataframe tbody tr th {\n",
       "        vertical-align: top;\n",
       "    }\n",
       "\n",
       "    .dataframe thead th {\n",
       "        text-align: right;\n",
       "    }\n",
       "</style>\n",
       "<table border=\"1\" class=\"dataframe\">\n",
       "  <thead>\n",
       "    <tr style=\"text-align: right;\">\n",
       "      <th></th>\n",
       "      <th>Total healthcare costs</th>\n",
       "      <th>GDP at marketprice</th>\n",
       "      <th>GDP Percent %</th>\n",
       "    </tr>\n",
       "    <tr>\n",
       "      <th>year</th>\n",
       "      <th></th>\n",
       "      <th></th>\n",
       "      <th></th>\n",
       "    </tr>\n",
       "  </thead>\n",
       "  <tbody>\n",
       "    <tr>\n",
       "      <th>2001</th>\n",
       "      <td>197803.0</td>\n",
       "      <td>2503731.0</td>\n",
       "      <td>7.9</td>\n",
       "    </tr>\n",
       "    <tr>\n",
       "      <th>2002</th>\n",
       "      <td>213325.0</td>\n",
       "      <td>2598336.0</td>\n",
       "      <td>8.2</td>\n",
       "    </tr>\n",
       "    <tr>\n",
       "      <th>2003</th>\n",
       "      <td>224861.0</td>\n",
       "      <td>2703551.0</td>\n",
       "      <td>8.3</td>\n",
       "    </tr>\n",
       "    <tr>\n",
       "      <th>2004</th>\n",
       "      <td>230084.0</td>\n",
       "      <td>2830194.0</td>\n",
       "      <td>8.1</td>\n",
       "    </tr>\n",
       "    <tr>\n",
       "      <th>2005</th>\n",
       "      <td>238908.0</td>\n",
       "      <td>2931085.0</td>\n",
       "      <td>8.2</td>\n",
       "    </tr>\n",
       "    <tr>\n",
       "      <th>2006</th>\n",
       "      <td>251365.0</td>\n",
       "      <td>3121668.0</td>\n",
       "      <td>8.1</td>\n",
       "    </tr>\n",
       "    <tr>\n",
       "      <th>2007</th>\n",
       "      <td>265492.0</td>\n",
       "      <td>3320278.0</td>\n",
       "      <td>8.0</td>\n",
       "    </tr>\n",
       "    <tr>\n",
       "      <th>2008</th>\n",
       "      <td>280086.0</td>\n",
       "      <td>3412253.0</td>\n",
       "      <td>8.2</td>\n",
       "    </tr>\n",
       "    <tr>\n",
       "      <th>2009</th>\n",
       "      <td>293033.0</td>\n",
       "      <td>3341167.0</td>\n",
       "      <td>8.8</td>\n",
       "    </tr>\n",
       "    <tr>\n",
       "      <th>2010</th>\n",
       "      <td>297309.0</td>\n",
       "      <td>3573581.0</td>\n",
       "      <td>8.3</td>\n",
       "    </tr>\n",
       "    <tr>\n",
       "      <th>2011</th>\n",
       "      <td>388316.0</td>\n",
       "      <td>3727905.0</td>\n",
       "      <td>10.4</td>\n",
       "    </tr>\n",
       "    <tr>\n",
       "      <th>2012</th>\n",
       "      <td>401826.0</td>\n",
       "      <td>3743086.0</td>\n",
       "      <td>10.7</td>\n",
       "    </tr>\n",
       "    <tr>\n",
       "      <th>2013</th>\n",
       "      <td>416859.0</td>\n",
       "      <td>3822671.0</td>\n",
       "      <td>10.9</td>\n",
       "    </tr>\n",
       "    <tr>\n",
       "      <th>2014</th>\n",
       "      <td>437122.0</td>\n",
       "      <td>3992730.0</td>\n",
       "      <td>10.9</td>\n",
       "    </tr>\n",
       "    <tr>\n",
       "      <th>2015</th>\n",
       "      <td>460309.0</td>\n",
       "      <td>4260470.0</td>\n",
       "      <td>10.8</td>\n",
       "    </tr>\n",
       "    <tr>\n",
       "      <th>2016</th>\n",
       "      <td>479137.0</td>\n",
       "      <td>4415031.0</td>\n",
       "      <td>10.9</td>\n",
       "    </tr>\n",
       "    <tr>\n",
       "      <th>2017</th>\n",
       "      <td>498821.0</td>\n",
       "      <td>4625094.0</td>\n",
       "      <td>10.8</td>\n",
       "    </tr>\n",
       "    <tr>\n",
       "      <th>2018</th>\n",
       "      <td>528268.0</td>\n",
       "      <td>4828306.0</td>\n",
       "      <td>10.9</td>\n",
       "    </tr>\n",
       "    <tr>\n",
       "      <th>2019</th>\n",
       "      <td>546987.0</td>\n",
       "      <td>5049619.0</td>\n",
       "      <td>10.8</td>\n",
       "    </tr>\n",
       "    <tr>\n",
       "      <th>2020</th>\n",
       "      <td>571016.0</td>\n",
       "      <td>5038538.0</td>\n",
       "      <td>11.3</td>\n",
       "    </tr>\n",
       "    <tr>\n",
       "      <th>2021</th>\n",
       "      <td>609107.0</td>\n",
       "      <td>5486558.0</td>\n",
       "      <td>11.1</td>\n",
       "    </tr>\n",
       "    <tr>\n",
       "      <th>2022</th>\n",
       "      <td>628317.0</td>\n",
       "      <td>5984786.0</td>\n",
       "      <td>10.5</td>\n",
       "    </tr>\n",
       "  </tbody>\n",
       "</table>\n",
       "</div>"
      ],
      "text/plain": [
       "      Total healthcare costs  GDP at marketprice  GDP Percent %\n",
       "year                                                           \n",
       "2001                197803.0           2503731.0            7.9\n",
       "2002                213325.0           2598336.0            8.2\n",
       "2003                224861.0           2703551.0            8.3\n",
       "2004                230084.0           2830194.0            8.1\n",
       "2005                238908.0           2931085.0            8.2\n",
       "2006                251365.0           3121668.0            8.1\n",
       "2007                265492.0           3320278.0            8.0\n",
       "2008                280086.0           3412253.0            8.2\n",
       "2009                293033.0           3341167.0            8.8\n",
       "2010                297309.0           3573581.0            8.3\n",
       "2011                388316.0           3727905.0           10.4\n",
       "2012                401826.0           3743086.0           10.7\n",
       "2013                416859.0           3822671.0           10.9\n",
       "2014                437122.0           3992730.0           10.9\n",
       "2015                460309.0           4260470.0           10.8\n",
       "2016                479137.0           4415031.0           10.9\n",
       "2017                498821.0           4625094.0           10.8\n",
       "2018                528268.0           4828306.0           10.9\n",
       "2019                546987.0           5049619.0           10.8\n",
       "2020                571016.0           5038538.0           11.3\n",
       "2021                609107.0           5486558.0           11.1\n",
       "2022                628317.0           5984786.0           10.5"
      ]
     },
     "execution_count": 213,
     "metadata": {},
     "output_type": "execute_result"
    }
   ],
   "source": [
    "# Convert to DataFrame\n",
    "df = pd.DataFrame(data)\n",
    "\n",
    "# Split the 'key' column into separate columns\n",
    "df['year'] = pd.DataFrame(df['key'].tolist(), index=df.index)\n",
    "\n",
    "# Drop the original 'key' column\n",
    "df.drop('key', axis=1, inplace=True)\n",
    "\n",
    "# Extract mean age and median age from the 'values' column\n",
    "df['Total healthcare costs'] = df['values'].apply(lambda x: float(x[0]) if x[0] != '..' else 0)\n",
    "df['GDP at marketprice'] = df['values'].apply(lambda x: float(x[1]) if x[1] != '..' else 0)\n",
    "df['GDP Percent %'] = df['values'].apply(lambda x: float(x[2]) if x[2] != '..' else 0)\n",
    "\n",
    "# Drop the original 'values' column\n",
    "df.drop('values', axis=1, inplace=True)\n",
    "\n",
    "df.set_index('year', inplace=True)\n",
    "\n",
    "healthcare_sweden = df\n",
    "healthcare_sweden"
   ]
  },
  {
   "cell_type": "markdown",
   "id": "245d44cd-c213-45dc-9cc9-b4886ff552c6",
   "metadata": {},
   "source": [
    "## Fourth out, data on house prices for new production"
   ]
  },
  {
   "cell_type": "code",
   "execution_count": 215,
   "id": "040960d1-c34d-4cc1-b889-af7b7640419f",
   "metadata": {
    "scrolled": true,
    "tags": []
   },
   "outputs": [],
   "source": [
    "scb = SCB('sv')\n",
    "scb.go_down('BO')\n",
    "scb.go_down('BO0201')\n",
    "scb.go_down('BO0201A')\n",
    "scb.go_down('PrisPerAreorFH02')\n",
    "scb.set_query(region=['Riket',\n",
    "                      'Storstadsområdena',\n",
    "                      'Stor-Stockholm',\n",
    "                      'Stor-Göteborg',\n",
    "                      'Stor-Malmö',\n",
    "                      'Länsregionerna I - III',\n",
    "                      'Länsregion I (norr)',\n",
    "                      'Länsregion II (mitten)',\n",
    "                      'Länsregion III (syd)'],\n",
    "              bruttonettopris='brutto',\n",
    "              tabellinnehål=['Byggnadsobjekt, antal som prisstatistiken baseras på',\n",
    "                              'Lägenheter, antal som prisstatistiken baseras på',\n",
    "                              'Lägenhetsarea/lägenhet, kvm',\n",
    "                              'Markpris/lägenhetsarea, kr',\n",
    "                              'Byggnadspris/lägenhetsarea, kr',\n",
    "                              'Totalt produktionspris/lägenhetsarea, kr'],\n",
    "              år=['1998',\n",
    "                  '1999',\n",
    "                  '2000',\n",
    "                  '2001',\n",
    "                  '2002',\n",
    "                  '2003',\n",
    "                  '2004',\n",
    "                  '2005',\n",
    "                  '2006',\n",
    "                  '2007',\n",
    "                  '2008',\n",
    "                  '2009',\n",
    "                  '2010',\n",
    "                  '2011',\n",
    "                  '2012',\n",
    "                  '2013',\n",
    "                  '2014',\n",
    "                  '2015',\n",
    "                  '2016',\n",
    "                  '2017',\n",
    "                  '2018',\n",
    "                  '2019',\n",
    "                  '2020',\n",
    "                  '2021',\n",
    "                  '2022'])\n",
    "scb.get_query()\n",
    "data = scb.get_data()['data']"
   ]
  },
  {
   "cell_type": "code",
   "execution_count": 218,
   "id": "5a8061b9-7cac-4e4f-ac39-fbfd57aed748",
   "metadata": {
    "tags": []
   },
   "outputs": [
    {
     "data": {
      "text/html": [
       "<div>\n",
       "<style scoped>\n",
       "    .dataframe tbody tr th:only-of-type {\n",
       "        vertical-align: middle;\n",
       "    }\n",
       "\n",
       "    .dataframe tbody tr th {\n",
       "        vertical-align: top;\n",
       "    }\n",
       "\n",
       "    .dataframe thead th {\n",
       "        text-align: right;\n",
       "    }\n",
       "</style>\n",
       "<table border=\"1\" class=\"dataframe\">\n",
       "  <thead>\n",
       "    <tr style=\"text-align: right;\">\n",
       "      <th></th>\n",
       "      <th>region</th>\n",
       "      <th>category</th>\n",
       "      <th>Amount of buildings</th>\n",
       "      <th>Amount of apartments</th>\n",
       "      <th>Apartment Area sqm/ Apartment</th>\n",
       "      <th>Property cost/Apartment Area sqm</th>\n",
       "      <th>Building cost/Apartment Area sqm</th>\n",
       "      <th>Total Production costs / Apartment Area sqm</th>\n",
       "    </tr>\n",
       "    <tr>\n",
       "      <th>year</th>\n",
       "      <th></th>\n",
       "      <th></th>\n",
       "      <th></th>\n",
       "      <th></th>\n",
       "      <th></th>\n",
       "      <th></th>\n",
       "      <th></th>\n",
       "      <th></th>\n",
       "    </tr>\n",
       "  </thead>\n",
       "  <tbody>\n",
       "    <tr>\n",
       "      <th>1998</th>\n",
       "      <td>00</td>\n",
       "      <td>1</td>\n",
       "      <td>117.0</td>\n",
       "      <td>3932.0</td>\n",
       "      <td>77.8</td>\n",
       "      <td>1702.0</td>\n",
       "      <td>13337.0</td>\n",
       "      <td>15039.0</td>\n",
       "    </tr>\n",
       "    <tr>\n",
       "      <th>1999</th>\n",
       "      <td>00</td>\n",
       "      <td>1</td>\n",
       "      <td>116.0</td>\n",
       "      <td>3944.0</td>\n",
       "      <td>83.4</td>\n",
       "      <td>2620.0</td>\n",
       "      <td>14911.0</td>\n",
       "      <td>17531.0</td>\n",
       "    </tr>\n",
       "    <tr>\n",
       "      <th>2000</th>\n",
       "      <td>00</td>\n",
       "      <td>1</td>\n",
       "      <td>136.0</td>\n",
       "      <td>4633.0</td>\n",
       "      <td>81.4</td>\n",
       "      <td>2387.0</td>\n",
       "      <td>15763.0</td>\n",
       "      <td>18150.0</td>\n",
       "    </tr>\n",
       "    <tr>\n",
       "      <th>2001</th>\n",
       "      <td>00</td>\n",
       "      <td>1</td>\n",
       "      <td>159.0</td>\n",
       "      <td>5709.0</td>\n",
       "      <td>85.4</td>\n",
       "      <td>3491.0</td>\n",
       "      <td>18758.0</td>\n",
       "      <td>22249.0</td>\n",
       "    </tr>\n",
       "    <tr>\n",
       "      <th>2002</th>\n",
       "      <td>00</td>\n",
       "      <td>1</td>\n",
       "      <td>189.0</td>\n",
       "      <td>7598.0</td>\n",
       "      <td>83.6</td>\n",
       "      <td>3700.0</td>\n",
       "      <td>19774.0</td>\n",
       "      <td>23474.0</td>\n",
       "    </tr>\n",
       "    <tr>\n",
       "      <th>...</th>\n",
       "      <td>...</td>\n",
       "      <td>...</td>\n",
       "      <td>...</td>\n",
       "      <td>...</td>\n",
       "      <td>...</td>\n",
       "      <td>...</td>\n",
       "      <td>...</td>\n",
       "      <td>...</td>\n",
       "    </tr>\n",
       "    <tr>\n",
       "      <th>2018</th>\n",
       "      <td>6</td>\n",
       "      <td>2</td>\n",
       "      <td>73.0</td>\n",
       "      <td>3101.0</td>\n",
       "      <td>66.4</td>\n",
       "      <td>4375.0</td>\n",
       "      <td>30447.0</td>\n",
       "      <td>34822.0</td>\n",
       "    </tr>\n",
       "    <tr>\n",
       "      <th>2019</th>\n",
       "      <td>6</td>\n",
       "      <td>2</td>\n",
       "      <td>67.0</td>\n",
       "      <td>2718.0</td>\n",
       "      <td>64.1</td>\n",
       "      <td>3589.0</td>\n",
       "      <td>30535.0</td>\n",
       "      <td>34124.0</td>\n",
       "    </tr>\n",
       "    <tr>\n",
       "      <th>2020</th>\n",
       "      <td>6</td>\n",
       "      <td>2</td>\n",
       "      <td>53.0</td>\n",
       "      <td>1983.0</td>\n",
       "      <td>69.8</td>\n",
       "      <td>4018.0</td>\n",
       "      <td>32721.0</td>\n",
       "      <td>36738.0</td>\n",
       "    </tr>\n",
       "    <tr>\n",
       "      <th>2021</th>\n",
       "      <td>6</td>\n",
       "      <td>2</td>\n",
       "      <td>52.0</td>\n",
       "      <td>3528.0</td>\n",
       "      <td>59.3</td>\n",
       "      <td>4159.0</td>\n",
       "      <td>29901.0</td>\n",
       "      <td>34060.0</td>\n",
       "    </tr>\n",
       "    <tr>\n",
       "      <th>2022</th>\n",
       "      <td>6</td>\n",
       "      <td>2</td>\n",
       "      <td>44.0</td>\n",
       "      <td>1590.0</td>\n",
       "      <td>64.1</td>\n",
       "      <td>4140.0</td>\n",
       "      <td>31070.0</td>\n",
       "      <td>35211.0</td>\n",
       "    </tr>\n",
       "  </tbody>\n",
       "</table>\n",
       "<p>450 rows × 8 columns</p>\n",
       "</div>"
      ],
      "text/plain": [
       "     region category  Amount of buildings  Amount of apartments  \\\n",
       "year                                                              \n",
       "1998     00        1                117.0                3932.0   \n",
       "1999     00        1                116.0                3944.0   \n",
       "2000     00        1                136.0                4633.0   \n",
       "2001     00        1                159.0                5709.0   \n",
       "2002     00        1                189.0                7598.0   \n",
       "...     ...      ...                  ...                   ...   \n",
       "2018      6        2                 73.0                3101.0   \n",
       "2019      6        2                 67.0                2718.0   \n",
       "2020      6        2                 53.0                1983.0   \n",
       "2021      6        2                 52.0                3528.0   \n",
       "2022      6        2                 44.0                1590.0   \n",
       "\n",
       "      Apartment Area sqm/ Apartment  Property cost/Apartment Area sqm  \\\n",
       "year                                                                    \n",
       "1998                           77.8                            1702.0   \n",
       "1999                           83.4                            2620.0   \n",
       "2000                           81.4                            2387.0   \n",
       "2001                           85.4                            3491.0   \n",
       "2002                           83.6                            3700.0   \n",
       "...                             ...                               ...   \n",
       "2018                           66.4                            4375.0   \n",
       "2019                           64.1                            3589.0   \n",
       "2020                           69.8                            4018.0   \n",
       "2021                           59.3                            4159.0   \n",
       "2022                           64.1                            4140.0   \n",
       "\n",
       "      Building cost/Apartment Area sqm  \\\n",
       "year                                     \n",
       "1998                           13337.0   \n",
       "1999                           14911.0   \n",
       "2000                           15763.0   \n",
       "2001                           18758.0   \n",
       "2002                           19774.0   \n",
       "...                                ...   \n",
       "2018                           30447.0   \n",
       "2019                           30535.0   \n",
       "2020                           32721.0   \n",
       "2021                           29901.0   \n",
       "2022                           31070.0   \n",
       "\n",
       "      Total Production costs / Apartment Area sqm  \n",
       "year                                               \n",
       "1998                                      15039.0  \n",
       "1999                                      17531.0  \n",
       "2000                                      18150.0  \n",
       "2001                                      22249.0  \n",
       "2002                                      23474.0  \n",
       "...                                           ...  \n",
       "2018                                      34822.0  \n",
       "2019                                      34124.0  \n",
       "2020                                      36738.0  \n",
       "2021                                      34060.0  \n",
       "2022                                      35211.0  \n",
       "\n",
       "[450 rows x 8 columns]"
      ]
     },
     "execution_count": 218,
     "metadata": {},
     "output_type": "execute_result"
    }
   ],
   "source": [
    "# Convert to DataFrame\n",
    "df = pd.DataFrame(data)\n",
    "\n",
    "# Split the 'key' column into separate columns\n",
    "df[['region','category','year']] = pd.DataFrame(df['key'].tolist(), index=df.index)\n",
    "\n",
    "# Drop the original 'key' column\n",
    "df.drop('key', axis=1, inplace=True)\n",
    "\n",
    "# Extract mean age and median age from the 'values' column\n",
    "df['Amount of buildings'] = df['values'].apply(lambda x: float(x[0]) if x[0] != '..' else 0)\n",
    "df['Amount of apartments'] = df['values'].apply(lambda x: float(x[1]) if x[1] != '..' else 0)\n",
    "df['Apartment Area sqm/ Apartment'] = df['values'].apply(lambda x: float(x[2]) if x[2] != '..' else 0)\n",
    "df['Property cost/Apartment Area sqm'] = df['values'].apply(lambda x: float(x[3]) if x[3] != '..' else 0)\n",
    "df['Building cost/Apartment Area sqm'] = df['values'].apply(lambda x: float(x[4]) if x[4] != '..' else 0)\n",
    "df['Total Production costs / Apartment Area sqm'] = df['values'].apply(lambda x: float(x[5]) if x[5] != '..' else 0)\n",
    "\n",
    "# Drop the original 'values' column\n",
    "df.drop('values', axis=1, inplace=True)\n",
    "\n",
    "df.set_index('year', inplace=True)\n",
    "\n",
    "construction_sweden = df\n",
    "construction_sweden"
   ]
  },
  {
   "cell_type": "code",
   "execution_count": 222,
   "id": "9808175f-7e4e-47eb-a107-cf7581b8cb7f",
   "metadata": {
    "tags": []
   },
   "outputs": [
    {
     "data": {
      "application/vnd.plotly.v1+json": {
       "config": {
        "plotlyServerURL": "https://plot.ly"
       },
       "data": [
        {
         "line": {
          "color": "blue",
          "dash": "dash",
          "width": 2
         },
         "mode": "lines",
         "name": "Line Plot",
         "type": "scatter",
         "x": [
          1,
          2,
          3,
          4,
          5
         ],
         "y": [
          10,
          15,
          13,
          17,
          19
         ]
        },
        {
         "line": {
          "color": "blue",
          "dash": "dash",
          "width": 2
         },
         "mode": "markers",
         "name": "Markers",
         "type": "scatter",
         "x": [
          1,
          2,
          3,
          4,
          5
         ],
         "y": [
          5,
          10,
          8,
          12,
          14
         ]
        }
       ],
       "layout": {
        "annotations": [
         {
          "arrowhead": 1,
          "showarrow": true,
          "text": "Annotation Text",
          "x": 3,
          "y": 13
         }
        ],
        "autosize": true,
        "template": {
         "data": {
          "bar": [
           {
            "error_x": {
             "color": "#2a3f5f"
            },
            "error_y": {
             "color": "#2a3f5f"
            },
            "marker": {
             "line": {
              "color": "#E5ECF6",
              "width": 0.5
             },
             "pattern": {
              "fillmode": "overlay",
              "size": 10,
              "solidity": 0.2
             }
            },
            "type": "bar"
           }
          ],
          "barpolar": [
           {
            "marker": {
             "line": {
              "color": "#E5ECF6",
              "width": 0.5
             },
             "pattern": {
              "fillmode": "overlay",
              "size": 10,
              "solidity": 0.2
             }
            },
            "type": "barpolar"
           }
          ],
          "carpet": [
           {
            "aaxis": {
             "endlinecolor": "#2a3f5f",
             "gridcolor": "white",
             "linecolor": "white",
             "minorgridcolor": "white",
             "startlinecolor": "#2a3f5f"
            },
            "baxis": {
             "endlinecolor": "#2a3f5f",
             "gridcolor": "white",
             "linecolor": "white",
             "minorgridcolor": "white",
             "startlinecolor": "#2a3f5f"
            },
            "type": "carpet"
           }
          ],
          "choropleth": [
           {
            "colorbar": {
             "outlinewidth": 0,
             "ticks": ""
            },
            "type": "choropleth"
           }
          ],
          "contour": [
           {
            "colorbar": {
             "outlinewidth": 0,
             "ticks": ""
            },
            "colorscale": [
             [
              0,
              "#0d0887"
             ],
             [
              0.1111111111111111,
              "#46039f"
             ],
             [
              0.2222222222222222,
              "#7201a8"
             ],
             [
              0.3333333333333333,
              "#9c179e"
             ],
             [
              0.4444444444444444,
              "#bd3786"
             ],
             [
              0.5555555555555556,
              "#d8576b"
             ],
             [
              0.6666666666666666,
              "#ed7953"
             ],
             [
              0.7777777777777778,
              "#fb9f3a"
             ],
             [
              0.8888888888888888,
              "#fdca26"
             ],
             [
              1,
              "#f0f921"
             ]
            ],
            "type": "contour"
           }
          ],
          "contourcarpet": [
           {
            "colorbar": {
             "outlinewidth": 0,
             "ticks": ""
            },
            "type": "contourcarpet"
           }
          ],
          "heatmap": [
           {
            "colorbar": {
             "outlinewidth": 0,
             "ticks": ""
            },
            "colorscale": [
             [
              0,
              "#0d0887"
             ],
             [
              0.1111111111111111,
              "#46039f"
             ],
             [
              0.2222222222222222,
              "#7201a8"
             ],
             [
              0.3333333333333333,
              "#9c179e"
             ],
             [
              0.4444444444444444,
              "#bd3786"
             ],
             [
              0.5555555555555556,
              "#d8576b"
             ],
             [
              0.6666666666666666,
              "#ed7953"
             ],
             [
              0.7777777777777778,
              "#fb9f3a"
             ],
             [
              0.8888888888888888,
              "#fdca26"
             ],
             [
              1,
              "#f0f921"
             ]
            ],
            "type": "heatmap"
           }
          ],
          "heatmapgl": [
           {
            "colorbar": {
             "outlinewidth": 0,
             "ticks": ""
            },
            "colorscale": [
             [
              0,
              "#0d0887"
             ],
             [
              0.1111111111111111,
              "#46039f"
             ],
             [
              0.2222222222222222,
              "#7201a8"
             ],
             [
              0.3333333333333333,
              "#9c179e"
             ],
             [
              0.4444444444444444,
              "#bd3786"
             ],
             [
              0.5555555555555556,
              "#d8576b"
             ],
             [
              0.6666666666666666,
              "#ed7953"
             ],
             [
              0.7777777777777778,
              "#fb9f3a"
             ],
             [
              0.8888888888888888,
              "#fdca26"
             ],
             [
              1,
              "#f0f921"
             ]
            ],
            "type": "heatmapgl"
           }
          ],
          "histogram": [
           {
            "marker": {
             "pattern": {
              "fillmode": "overlay",
              "size": 10,
              "solidity": 0.2
             }
            },
            "type": "histogram"
           }
          ],
          "histogram2d": [
           {
            "colorbar": {
             "outlinewidth": 0,
             "ticks": ""
            },
            "colorscale": [
             [
              0,
              "#0d0887"
             ],
             [
              0.1111111111111111,
              "#46039f"
             ],
             [
              0.2222222222222222,
              "#7201a8"
             ],
             [
              0.3333333333333333,
              "#9c179e"
             ],
             [
              0.4444444444444444,
              "#bd3786"
             ],
             [
              0.5555555555555556,
              "#d8576b"
             ],
             [
              0.6666666666666666,
              "#ed7953"
             ],
             [
              0.7777777777777778,
              "#fb9f3a"
             ],
             [
              0.8888888888888888,
              "#fdca26"
             ],
             [
              1,
              "#f0f921"
             ]
            ],
            "type": "histogram2d"
           }
          ],
          "histogram2dcontour": [
           {
            "colorbar": {
             "outlinewidth": 0,
             "ticks": ""
            },
            "colorscale": [
             [
              0,
              "#0d0887"
             ],
             [
              0.1111111111111111,
              "#46039f"
             ],
             [
              0.2222222222222222,
              "#7201a8"
             ],
             [
              0.3333333333333333,
              "#9c179e"
             ],
             [
              0.4444444444444444,
              "#bd3786"
             ],
             [
              0.5555555555555556,
              "#d8576b"
             ],
             [
              0.6666666666666666,
              "#ed7953"
             ],
             [
              0.7777777777777778,
              "#fb9f3a"
             ],
             [
              0.8888888888888888,
              "#fdca26"
             ],
             [
              1,
              "#f0f921"
             ]
            ],
            "type": "histogram2dcontour"
           }
          ],
          "mesh3d": [
           {
            "colorbar": {
             "outlinewidth": 0,
             "ticks": ""
            },
            "type": "mesh3d"
           }
          ],
          "parcoords": [
           {
            "line": {
             "colorbar": {
              "outlinewidth": 0,
              "ticks": ""
             }
            },
            "type": "parcoords"
           }
          ],
          "pie": [
           {
            "automargin": true,
            "type": "pie"
           }
          ],
          "scatter": [
           {
            "fillpattern": {
             "fillmode": "overlay",
             "size": 10,
             "solidity": 0.2
            },
            "type": "scatter"
           }
          ],
          "scatter3d": [
           {
            "line": {
             "colorbar": {
              "outlinewidth": 0,
              "ticks": ""
             }
            },
            "marker": {
             "colorbar": {
              "outlinewidth": 0,
              "ticks": ""
             }
            },
            "type": "scatter3d"
           }
          ],
          "scattercarpet": [
           {
            "marker": {
             "colorbar": {
              "outlinewidth": 0,
              "ticks": ""
             }
            },
            "type": "scattercarpet"
           }
          ],
          "scattergeo": [
           {
            "marker": {
             "colorbar": {
              "outlinewidth": 0,
              "ticks": ""
             }
            },
            "type": "scattergeo"
           }
          ],
          "scattergl": [
           {
            "marker": {
             "colorbar": {
              "outlinewidth": 0,
              "ticks": ""
             }
            },
            "type": "scattergl"
           }
          ],
          "scattermapbox": [
           {
            "marker": {
             "colorbar": {
              "outlinewidth": 0,
              "ticks": ""
             }
            },
            "type": "scattermapbox"
           }
          ],
          "scatterpolar": [
           {
            "marker": {
             "colorbar": {
              "outlinewidth": 0,
              "ticks": ""
             }
            },
            "type": "scatterpolar"
           }
          ],
          "scatterpolargl": [
           {
            "marker": {
             "colorbar": {
              "outlinewidth": 0,
              "ticks": ""
             }
            },
            "type": "scatterpolargl"
           }
          ],
          "scatterternary": [
           {
            "marker": {
             "colorbar": {
              "outlinewidth": 0,
              "ticks": ""
             }
            },
            "type": "scatterternary"
           }
          ],
          "surface": [
           {
            "colorbar": {
             "outlinewidth": 0,
             "ticks": ""
            },
            "colorscale": [
             [
              0,
              "#0d0887"
             ],
             [
              0.1111111111111111,
              "#46039f"
             ],
             [
              0.2222222222222222,
              "#7201a8"
             ],
             [
              0.3333333333333333,
              "#9c179e"
             ],
             [
              0.4444444444444444,
              "#bd3786"
             ],
             [
              0.5555555555555556,
              "#d8576b"
             ],
             [
              0.6666666666666666,
              "#ed7953"
             ],
             [
              0.7777777777777778,
              "#fb9f3a"
             ],
             [
              0.8888888888888888,
              "#fdca26"
             ],
             [
              1,
              "#f0f921"
             ]
            ],
            "type": "surface"
           }
          ],
          "table": [
           {
            "cells": {
             "fill": {
              "color": "#EBF0F8"
             },
             "line": {
              "color": "white"
             }
            },
            "header": {
             "fill": {
              "color": "#C8D4E3"
             },
             "line": {
              "color": "white"
             }
            },
            "type": "table"
           }
          ]
         },
         "layout": {
          "annotationdefaults": {
           "arrowcolor": "#2a3f5f",
           "arrowhead": 0,
           "arrowwidth": 1
          },
          "autotypenumbers": "strict",
          "coloraxis": {
           "colorbar": {
            "outlinewidth": 0,
            "ticks": ""
           }
          },
          "colorscale": {
           "diverging": [
            [
             0,
             "#8e0152"
            ],
            [
             0.1,
             "#c51b7d"
            ],
            [
             0.2,
             "#de77ae"
            ],
            [
             0.3,
             "#f1b6da"
            ],
            [
             0.4,
             "#fde0ef"
            ],
            [
             0.5,
             "#f7f7f7"
            ],
            [
             0.6,
             "#e6f5d0"
            ],
            [
             0.7,
             "#b8e186"
            ],
            [
             0.8,
             "#7fbc41"
            ],
            [
             0.9,
             "#4d9221"
            ],
            [
             1,
             "#276419"
            ]
           ],
           "sequential": [
            [
             0,
             "#0d0887"
            ],
            [
             0.1111111111111111,
             "#46039f"
            ],
            [
             0.2222222222222222,
             "#7201a8"
            ],
            [
             0.3333333333333333,
             "#9c179e"
            ],
            [
             0.4444444444444444,
             "#bd3786"
            ],
            [
             0.5555555555555556,
             "#d8576b"
            ],
            [
             0.6666666666666666,
             "#ed7953"
            ],
            [
             0.7777777777777778,
             "#fb9f3a"
            ],
            [
             0.8888888888888888,
             "#fdca26"
            ],
            [
             1,
             "#f0f921"
            ]
           ],
           "sequentialminus": [
            [
             0,
             "#0d0887"
            ],
            [
             0.1111111111111111,
             "#46039f"
            ],
            [
             0.2222222222222222,
             "#7201a8"
            ],
            [
             0.3333333333333333,
             "#9c179e"
            ],
            [
             0.4444444444444444,
             "#bd3786"
            ],
            [
             0.5555555555555556,
             "#d8576b"
            ],
            [
             0.6666666666666666,
             "#ed7953"
            ],
            [
             0.7777777777777778,
             "#fb9f3a"
            ],
            [
             0.8888888888888888,
             "#fdca26"
            ],
            [
             1,
             "#f0f921"
            ]
           ]
          },
          "colorway": [
           "#636efa",
           "#EF553B",
           "#00cc96",
           "#ab63fa",
           "#FFA15A",
           "#19d3f3",
           "#FF6692",
           "#B6E880",
           "#FF97FF",
           "#FECB52"
          ],
          "font": {
           "color": "#2a3f5f"
          },
          "geo": {
           "bgcolor": "white",
           "lakecolor": "white",
           "landcolor": "#E5ECF6",
           "showlakes": true,
           "showland": true,
           "subunitcolor": "white"
          },
          "hoverlabel": {
           "align": "left"
          },
          "hovermode": "closest",
          "mapbox": {
           "style": "light"
          },
          "paper_bgcolor": "white",
          "plot_bgcolor": "#E5ECF6",
          "polar": {
           "angularaxis": {
            "gridcolor": "white",
            "linecolor": "white",
            "ticks": ""
           },
           "bgcolor": "#E5ECF6",
           "radialaxis": {
            "gridcolor": "white",
            "linecolor": "white",
            "ticks": ""
           }
          },
          "scene": {
           "xaxis": {
            "backgroundcolor": "#E5ECF6",
            "gridcolor": "white",
            "gridwidth": 2,
            "linecolor": "white",
            "showbackground": true,
            "ticks": "",
            "zerolinecolor": "white"
           },
           "yaxis": {
            "backgroundcolor": "#E5ECF6",
            "gridcolor": "white",
            "gridwidth": 2,
            "linecolor": "white",
            "showbackground": true,
            "ticks": "",
            "zerolinecolor": "white"
           },
           "zaxis": {
            "backgroundcolor": "#E5ECF6",
            "gridcolor": "white",
            "gridwidth": 2,
            "linecolor": "white",
            "showbackground": true,
            "ticks": "",
            "zerolinecolor": "white"
           }
          },
          "shapedefaults": {
           "line": {
            "color": "#2a3f5f"
           }
          },
          "ternary": {
           "aaxis": {
            "gridcolor": "white",
            "linecolor": "white",
            "ticks": ""
           },
           "baxis": {
            "gridcolor": "white",
            "linecolor": "white",
            "ticks": ""
           },
           "bgcolor": "#E5ECF6",
           "caxis": {
            "gridcolor": "white",
            "linecolor": "white",
            "ticks": ""
           }
          },
          "title": {
           "x": 0.05
          },
          "xaxis": {
           "automargin": true,
           "gridcolor": "white",
           "linecolor": "white",
           "ticks": "",
           "title": {
            "standoff": 15
           },
           "zerolinecolor": "white",
           "zerolinewidth": 2
          },
          "yaxis": {
           "automargin": true,
           "gridcolor": "white",
           "linecolor": "white",
           "ticks": "",
           "title": {
            "standoff": 15
           },
           "zerolinecolor": "white",
           "zerolinewidth": 2
          }
         }
        },
        "title": {
         "text": "Sample Line Plot"
        },
        "xaxis": {
         "autorange": true,
         "range": [
          0.7597578116553141,
          5.240242188344686
         ],
         "title": {
          "text": "X Axis"
         },
         "type": "linear"
        },
        "yaxis": {
         "autorange": true,
         "range": [
          3.8720379146919433,
          19.796208530805686
         ],
         "title": {
          "text": "Y Axis"
         },
         "type": "linear"
        }
       }
      },
      "image/png": "[encoded data removed]",
      "text/html": [
       "<div>                            <div id=\"c9c7c7d6-3b03-40e1-b5d8-45f0bb0d19b3\" class=\"plotly-graph-div\" style=\"height:525px; width:100%;\"></div>            <script type=\"text/javascript\">                require([\"plotly\"], function(Plotly) {                    window.PLOTLYENV=window.PLOTLYENV || {};                                    if (document.getElementById(\"c9c7c7d6-3b03-40e1-b5d8-45f0bb0d19b3\")) {                    Plotly.newPlot(                        \"c9c7c7d6-3b03-40e1-b5d8-45f0bb0d19b3\",                        [{\"mode\":\"lines\",\"name\":\"Line Plot\",\"x\":[1,2,3,4,5],\"y\":[10,15,13,17,19],\"type\":\"scatter\",\"line\":{\"color\":\"blue\",\"dash\":\"dash\",\"width\":2}},{\"mode\":\"markers\",\"name\":\"Markers\",\"x\":[1,2,3,4,5],\"y\":[5,10,8,12,14],\"type\":\"scatter\",\"line\":{\"color\":\"blue\",\"dash\":\"dash\",\"width\":2}}],                        {\"template\":{\"data\":{\"histogram2dcontour\":[{\"type\":\"histogram2dcontour\",\"colorbar\":{\"outlinewidth\":0,\"ticks\":\"\"},\"colorscale\":[[0.0,\"#0d0887\"],[0.1111111111111111,\"#46039f\"],[0.2222222222222222,\"#7201a8\"],[0.3333333333333333,\"#9c179e\"],[0.4444444444444444,\"#bd3786\"],[0.5555555555555556,\"#d8576b\"],[0.6666666666666666,\"#ed7953\"],[0.7777777777777778,\"#fb9f3a\"],[0.8888888888888888,\"#fdca26\"],[1.0,\"#f0f921\"]]}],\"choropleth\":[{\"type\":\"choropleth\",\"colorbar\":{\"outlinewidth\":0,\"ticks\":\"\"}}],\"histogram2d\":[{\"type\":\"histogram2d\",\"colorbar\":{\"outlinewidth\":0,\"ticks\":\"\"},\"colorscale\":[[0.0,\"#0d0887\"],[0.1111111111111111,\"#46039f\"],[0.2222222222222222,\"#7201a8\"],[0.3333333333333333,\"#9c179e\"],[0.4444444444444444,\"#bd3786\"],[0.5555555555555556,\"#d8576b\"],[0.6666666666666666,\"#ed7953\"],[0.7777777777777778,\"#fb9f3a\"],[0.8888888888888888,\"#fdca26\"],[1.0,\"#f0f921\"]]}],\"heatmap\":[{\"type\":\"heatmap\",\"colorbar\":{\"outlinewidth\":0,\"ticks\":\"\"},\"colorscale\":[[0.0,\"#0d0887\"],[0.1111111111111111,\"#46039f\"],[0.2222222222222222,\"#7201a8\"],[0.3333333333333333,\"#9c179e\"],[0.4444444444444444,\"#bd3786\"],[0.5555555555555556,\"#d8576b\"],[0.6666666666666666,\"#ed7953\"],[0.7777777777777778,\"#fb9f3a\"],[0.8888888888888888,\"#fdca26\"],[1.0,\"#f0f921\"]]}],\"heatmapgl\":[{\"type\":\"heatmapgl\",\"colorbar\":{\"outlinewidth\":0,\"ticks\":\"\"},\"colorscale\":[[0.0,\"#0d0887\"],[0.1111111111111111,\"#46039f\"],[0.2222222222222222,\"#7201a8\"],[0.3333333333333333,\"#9c179e\"],[0.4444444444444444,\"#bd3786\"],[0.5555555555555556,\"#d8576b\"],[0.6666666666666666,\"#ed7953\"],[0.7777777777777778,\"#fb9f3a\"],[0.8888888888888888,\"#fdca26\"],[1.0,\"#f0f921\"]]}],\"contourcarpet\":[{\"type\":\"contourcarpet\",\"colorbar\":{\"outlinewidth\":0,\"ticks\":\"\"}}],\"contour\":[{\"type\":\"contour\",\"colorbar\":{\"outlinewidth\":0,\"ticks\":\"\"},\"colorscale\":[[0.0,\"#0d0887\"],[0.1111111111111111,\"#46039f\"],[0.2222222222222222,\"#7201a8\"],[0.3333333333333333,\"#9c179e\"],[0.4444444444444444,\"#bd3786\"],[0.5555555555555556,\"#d8576b\"],[0.6666666666666666,\"#ed7953\"],[0.7777777777777778,\"#fb9f3a\"],[0.8888888888888888,\"#fdca26\"],[1.0,\"#f0f921\"]]}],\"surface\":[{\"type\":\"surface\",\"colorbar\":{\"outlinewidth\":0,\"ticks\":\"\"},\"colorscale\":[[0.0,\"#0d0887\"],[0.1111111111111111,\"#46039f\"],[0.2222222222222222,\"#7201a8\"],[0.3333333333333333,\"#9c179e\"],[0.4444444444444444,\"#bd3786\"],[0.5555555555555556,\"#d8576b\"],[0.6666666666666666,\"#ed7953\"],[0.7777777777777778,\"#fb9f3a\"],[0.8888888888888888,\"#fdca26\"],[1.0,\"#f0f921\"]]}],\"mesh3d\":[{\"type\":\"mesh3d\",\"colorbar\":{\"outlinewidth\":0,\"ticks\":\"\"}}],\"scatter\":[{\"fillpattern\":{\"fillmode\":\"overlay\",\"size\":10,\"solidity\":0.2},\"type\":\"scatter\"}],\"parcoords\":[{\"type\":\"parcoords\",\"line\":{\"colorbar\":{\"outlinewidth\":0,\"ticks\":\"\"}}}],\"scatterpolargl\":[{\"type\":\"scatterpolargl\",\"marker\":{\"colorbar\":{\"outlinewidth\":0,\"ticks\":\"\"}}}],\"bar\":[{\"error_x\":{\"color\":\"#2a3f5f\"},\"error_y\":{\"color\":\"#2a3f5f\"},\"marker\":{\"line\":{\"color\":\"#E5ECF6\",\"width\":0.5},\"pattern\":{\"fillmode\":\"overlay\",\"size\":10,\"solidity\":0.2}},\"type\":\"bar\"}],\"scattergeo\":[{\"type\":\"scattergeo\",\"marker\":{\"colorbar\":{\"outlinewidth\":0,\"ticks\":\"\"}}}],\"scatterpolar\":[{\"type\":\"scatterpolar\",\"marker\":{\"colorbar\":{\"outlinewidth\":0,\"ticks\":\"\"}}}],\"histogram\":[{\"marker\":{\"pattern\":{\"fillmode\":\"overlay\",\"size\":10,\"solidity\":0.2}},\"type\":\"histogram\"}],\"scattergl\":[{\"type\":\"scattergl\",\"marker\":{\"colorbar\":{\"outlinewidth\":0,\"ticks\":\"\"}}}],\"scatter3d\":[{\"type\":\"scatter3d\",\"line\":{\"colorbar\":{\"outlinewidth\":0,\"ticks\":\"\"}},\"marker\":{\"colorbar\":{\"outlinewidth\":0,\"ticks\":\"\"}}}],\"scattermapbox\":[{\"type\":\"scattermapbox\",\"marker\":{\"colorbar\":{\"outlinewidth\":0,\"ticks\":\"\"}}}],\"scatterternary\":[{\"type\":\"scatterternary\",\"marker\":{\"colorbar\":{\"outlinewidth\":0,\"ticks\":\"\"}}}],\"scattercarpet\":[{\"type\":\"scattercarpet\",\"marker\":{\"colorbar\":{\"outlinewidth\":0,\"ticks\":\"\"}}}],\"carpet\":[{\"aaxis\":{\"endlinecolor\":\"#2a3f5f\",\"gridcolor\":\"white\",\"linecolor\":\"white\",\"minorgridcolor\":\"white\",\"startlinecolor\":\"#2a3f5f\"},\"baxis\":{\"endlinecolor\":\"#2a3f5f\",\"gridcolor\":\"white\",\"linecolor\":\"white\",\"minorgridcolor\":\"white\",\"startlinecolor\":\"#2a3f5f\"},\"type\":\"carpet\"}],\"table\":[{\"cells\":{\"fill\":{\"color\":\"#EBF0F8\"},\"line\":{\"color\":\"white\"}},\"header\":{\"fill\":{\"color\":\"#C8D4E3\"},\"line\":{\"color\":\"white\"}},\"type\":\"table\"}],\"barpolar\":[{\"marker\":{\"line\":{\"color\":\"#E5ECF6\",\"width\":0.5},\"pattern\":{\"fillmode\":\"overlay\",\"size\":10,\"solidity\":0.2}},\"type\":\"barpolar\"}],\"pie\":[{\"automargin\":true,\"type\":\"pie\"}]},\"layout\":{\"autotypenumbers\":\"strict\",\"colorway\":[\"#636efa\",\"#EF553B\",\"#00cc96\",\"#ab63fa\",\"#FFA15A\",\"#19d3f3\",\"#FF6692\",\"#B6E880\",\"#FF97FF\",\"#FECB52\"],\"font\":{\"color\":\"#2a3f5f\"},\"hovermode\":\"closest\",\"hoverlabel\":{\"align\":\"left\"},\"paper_bgcolor\":\"white\",\"plot_bgcolor\":\"#E5ECF6\",\"polar\":{\"bgcolor\":\"#E5ECF6\",\"angularaxis\":{\"gridcolor\":\"white\",\"linecolor\":\"white\",\"ticks\":\"\"},\"radialaxis\":{\"gridcolor\":\"white\",\"linecolor\":\"white\",\"ticks\":\"\"}},\"ternary\":{\"bgcolor\":\"#E5ECF6\",\"aaxis\":{\"gridcolor\":\"white\",\"linecolor\":\"white\",\"ticks\":\"\"},\"baxis\":{\"gridcolor\":\"white\",\"linecolor\":\"white\",\"ticks\":\"\"},\"caxis\":{\"gridcolor\":\"white\",\"linecolor\":\"white\",\"ticks\":\"\"}},\"coloraxis\":{\"colorbar\":{\"outlinewidth\":0,\"ticks\":\"\"}},\"colorscale\":{\"sequential\":[[0.0,\"#0d0887\"],[0.1111111111111111,\"#46039f\"],[0.2222222222222222,\"#7201a8\"],[0.3333333333333333,\"#9c179e\"],[0.4444444444444444,\"#bd3786\"],[0.5555555555555556,\"#d8576b\"],[0.6666666666666666,\"#ed7953\"],[0.7777777777777778,\"#fb9f3a\"],[0.8888888888888888,\"#fdca26\"],[1.0,\"#f0f921\"]],\"sequentialminus\":[[0.0,\"#0d0887\"],[0.1111111111111111,\"#46039f\"],[0.2222222222222222,\"#7201a8\"],[0.3333333333333333,\"#9c179e\"],[0.4444444444444444,\"#bd3786\"],[0.5555555555555556,\"#d8576b\"],[0.6666666666666666,\"#ed7953\"],[0.7777777777777778,\"#fb9f3a\"],[0.8888888888888888,\"#fdca26\"],[1.0,\"#f0f921\"]],\"diverging\":[[0,\"#8e0152\"],[0.1,\"#c51b7d\"],[0.2,\"#de77ae\"],[0.3,\"#f1b6da\"],[0.4,\"#fde0ef\"],[0.5,\"#f7f7f7\"],[0.6,\"#e6f5d0\"],[0.7,\"#b8e186\"],[0.8,\"#7fbc41\"],[0.9,\"#4d9221\"],[1,\"#276419\"]]},\"xaxis\":{\"gridcolor\":\"white\",\"linecolor\":\"white\",\"ticks\":\"\",\"title\":{\"standoff\":15},\"zerolinecolor\":\"white\",\"automargin\":true,\"zerolinewidth\":2},\"yaxis\":{\"gridcolor\":\"white\",\"linecolor\":\"white\",\"ticks\":\"\",\"title\":{\"standoff\":15},\"zerolinecolor\":\"white\",\"automargin\":true,\"zerolinewidth\":2},\"scene\":{\"xaxis\":{\"backgroundcolor\":\"#E5ECF6\",\"gridcolor\":\"white\",\"linecolor\":\"white\",\"showbackground\":true,\"ticks\":\"\",\"zerolinecolor\":\"white\",\"gridwidth\":2},\"yaxis\":{\"backgroundcolor\":\"#E5ECF6\",\"gridcolor\":\"white\",\"linecolor\":\"white\",\"showbackground\":true,\"ticks\":\"\",\"zerolinecolor\":\"white\",\"gridwidth\":2},\"zaxis\":{\"backgroundcolor\":\"#E5ECF6\",\"gridcolor\":\"white\",\"linecolor\":\"white\",\"showbackground\":true,\"ticks\":\"\",\"zerolinecolor\":\"white\",\"gridwidth\":2}},\"shapedefaults\":{\"line\":{\"color\":\"#2a3f5f\"}},\"annotationdefaults\":{\"arrowcolor\":\"#2a3f5f\",\"arrowhead\":0,\"arrowwidth\":1},\"geo\":{\"bgcolor\":\"white\",\"landcolor\":\"#E5ECF6\",\"subunitcolor\":\"white\",\"showland\":true,\"showlakes\":true,\"lakecolor\":\"white\"},\"title\":{\"x\":0.05},\"mapbox\":{\"style\":\"light\"}}},\"title\":{\"text\":\"Sample Line Plot\"},\"xaxis\":{\"title\":{\"text\":\"X Axis\"}},\"yaxis\":{\"title\":{\"text\":\"Y Axis\"}},\"annotations\":[{\"arrowhead\":1,\"showarrow\":true,\"text\":\"Annotation Text\",\"x\":3,\"y\":13}]},                        {\"responsive\": true}                    ).then(function(){\n",
       "                            \n",
       "var gd = document.getElementById('c9c7c7d6-3b03-40e1-b5d8-45f0bb0d19b3');\n",
       "var x = new MutationObserver(function (mutations, observer) {{\n",
       "        var display = window.getComputedStyle(gd).display;\n",
       "        if (!display || display === 'none') {{\n",
       "            console.log([gd, 'removed!']);\n",
       "            Plotly.purge(gd);\n",
       "            observer.disconnect();\n",
       "        }}\n",
       "}});\n",
       "\n",
       "// Listen for the removal of the full notebook cells\n",
       "var notebookContainer = gd.closest('#notebook-container');\n",
       "if (notebookContainer) {{\n",
       "    x.observe(notebookContainer, {childList: true});\n",
       "}}\n",
       "\n",
       "// Listen for the clearing of the current output cell\n",
       "var outputEl = gd.closest('.output');\n",
       "if (outputEl) {{\n",
       "    x.observe(outputEl, {childList: true});\n",
       "}}\n",
       "\n",
       "                        })                };                });            </script>        </div>"
      ]
     },
     "metadata": {},
     "output_type": "display_data"
    },
    {
     "data": {
      "application/vnd.plotly.v1+json": {
       "config": {
        "plotlyServerURL": "https://plot.ly"
       },
       "data": [
        {
         "line": {
          "color": "blue",
          "dash": "dash",
          "width": 2
         },
         "mode": "lines",
         "name": "Line Plot",
         "type": "scatter",
         "x": [
          1,
          2,
          3,
          4,
          5
         ],
         "y": [
          10,
          15,
          13,
          17,
          19
         ]
        },
        {
         "line": {
          "color": "blue",
          "dash": "dash",
          "width": 2
         },
         "mode": "markers",
         "name": "Markers",
         "type": "scatter",
         "x": [
          1,
          2,
          3,
          4,
          5
         ],
         "y": [
          5,
          10,
          8,
          12,
          14
         ]
        }
       ],
       "layout": {
        "annotations": [
         {
          "arrowhead": 1,
          "showarrow": true,
          "text": "Annotation Text",
          "x": 3,
          "y": 13
         }
        ],
        "autosize": true,
        "template": {
         "data": {
          "bar": [
           {
            "error_x": {
             "color": "#2a3f5f"
            },
            "error_y": {
             "color": "#2a3f5f"
            },
            "marker": {
             "line": {
              "color": "#E5ECF6",
              "width": 0.5
             },
             "pattern": {
              "fillmode": "overlay",
              "size": 10,
              "solidity": 0.2
             }
            },
            "type": "bar"
           }
          ],
          "barpolar": [
           {
            "marker": {
             "line": {
              "color": "#E5ECF6",
              "width": 0.5
             },
             "pattern": {
              "fillmode": "overlay",
              "size": 10,
              "solidity": 0.2
             }
            },
            "type": "barpolar"
           }
          ],
          "carpet": [
           {
            "aaxis": {
             "endlinecolor": "#2a3f5f",
             "gridcolor": "white",
             "linecolor": "white",
             "minorgridcolor": "white",
             "startlinecolor": "#2a3f5f"
            },
            "baxis": {
             "endlinecolor": "#2a3f5f",
             "gridcolor": "white",
             "linecolor": "white",
             "minorgridcolor": "white",
             "startlinecolor": "#2a3f5f"
            },
            "type": "carpet"
           }
          ],
          "choropleth": [
           {
            "colorbar": {
             "outlinewidth": 0,
             "ticks": ""
            },
            "type": "choropleth"
           }
          ],
          "contour": [
           {
            "colorbar": {
             "outlinewidth": 0,
             "ticks": ""
            },
            "colorscale": [
             [
              0,
              "#0d0887"
             ],
             [
              0.1111111111111111,
              "#46039f"
             ],
             [
              0.2222222222222222,
              "#7201a8"
             ],
             [
              0.3333333333333333,
              "#9c179e"
             ],
             [
              0.4444444444444444,
              "#bd3786"
             ],
             [
              0.5555555555555556,
              "#d8576b"
             ],
             [
              0.6666666666666666,
              "#ed7953"
             ],
             [
              0.7777777777777778,
              "#fb9f3a"
             ],
             [
              0.8888888888888888,
              "#fdca26"
             ],
             [
              1,
              "#f0f921"
             ]
            ],
            "type": "contour"
           }
          ],
          "contourcarpet": [
           {
            "colorbar": {
             "outlinewidth": 0,
             "ticks": ""
            },
            "type": "contourcarpet"
           }
          ],
          "heatmap": [
           {
            "colorbar": {
             "outlinewidth": 0,
             "ticks": ""
            },
            "colorscale": [
             [
              0,
              "#0d0887"
             ],
             [
              0.1111111111111111,
              "#46039f"
             ],
             [
              0.2222222222222222,
              "#7201a8"
             ],
             [
              0.3333333333333333,
              "#9c179e"
             ],
             [
              0.4444444444444444,
              "#bd3786"
             ],
             [
              0.5555555555555556,
              "#d8576b"
             ],
             [
              0.6666666666666666,
              "#ed7953"
             ],
             [
              0.7777777777777778,
              "#fb9f3a"
             ],
             [
              0.8888888888888888,
              "#fdca26"
             ],
             [
              1,
              "#f0f921"
             ]
            ],
            "type": "heatmap"
           }
          ],
          "heatmapgl": [
           {
            "colorbar": {
             "outlinewidth": 0,
             "ticks": ""
            },
            "colorscale": [
             [
              0,
              "#0d0887"
             ],
             [
              0.1111111111111111,
              "#46039f"
             ],
             [
              0.2222222222222222,
              "#7201a8"
             ],
             [
              0.3333333333333333,
              "#9c179e"
             ],
             [
              0.4444444444444444,
              "#bd3786"
             ],
             [
              0.5555555555555556,
              "#d8576b"
             ],
             [
              0.6666666666666666,
              "#ed7953"
             ],
             [
              0.7777777777777778,
              "#fb9f3a"
             ],
             [
              0.8888888888888888,
              "#fdca26"
             ],
             [
              1,
              "#f0f921"
             ]
            ],
            "type": "heatmapgl"
           }
          ],
          "histogram": [
           {
            "marker": {
             "pattern": {
              "fillmode": "overlay",
              "size": 10,
              "solidity": 0.2
             }
            },
            "type": "histogram"
           }
          ],
          "histogram2d": [
           {
            "colorbar": {
             "outlinewidth": 0,
             "ticks": ""
            },
            "colorscale": [
             [
              0,
              "#0d0887"
             ],
             [
              0.1111111111111111,
              "#46039f"
             ],
             [
              0.2222222222222222,
              "#7201a8"
             ],
             [
              0.3333333333333333,
              "#9c179e"
             ],
             [
              0.4444444444444444,
              "#bd3786"
             ],
             [
              0.5555555555555556,
              "#d8576b"
             ],
             [
              0.6666666666666666,
              "#ed7953"
             ],
             [
              0.7777777777777778,
              "#fb9f3a"
             ],
             [
              0.8888888888888888,
              "#fdca26"
             ],
             [
              1,
              "#f0f921"
             ]
            ],
            "type": "histogram2d"
           }
          ],
          "histogram2dcontour": [
           {
            "colorbar": {
             "outlinewidth": 0,
             "ticks": ""
            },
            "colorscale": [
             [
              0,
              "#0d0887"
             ],
             [
              0.1111111111111111,
              "#46039f"
             ],
             [
              0.2222222222222222,
              "#7201a8"
             ],
             [
              0.3333333333333333,
              "#9c179e"
             ],
             [
              0.4444444444444444,
              "#bd3786"
             ],
             [
              0.5555555555555556,
              "#d8576b"
             ],
             [
              0.6666666666666666,
              "#ed7953"
             ],
             [
              0.7777777777777778,
              "#fb9f3a"
             ],
             [
              0.8888888888888888,
              "#fdca26"
             ],
             [
              1,
              "#f0f921"
             ]
            ],
            "type": "histogram2dcontour"
           }
          ],
          "mesh3d": [
           {
            "colorbar": {
             "outlinewidth": 0,
             "ticks": ""
            },
            "type": "mesh3d"
           }
          ],
          "parcoords": [
           {
            "line": {
             "colorbar": {
              "outlinewidth": 0,
              "ticks": ""
             }
            },
            "type": "parcoords"
           }
          ],
          "pie": [
           {
            "automargin": true,
            "type": "pie"
           }
          ],
          "scatter": [
           {
            "fillpattern": {
             "fillmode": "overlay",
             "size": 10,
             "solidity": 0.2
            },
            "type": "scatter"
           }
          ],
          "scatter3d": [
           {
            "line": {
             "colorbar": {
              "outlinewidth": 0,
              "ticks": ""
             }
            },
            "marker": {
             "colorbar": {
              "outlinewidth": 0,
              "ticks": ""
             }
            },
            "type": "scatter3d"
           }
          ],
          "scattercarpet": [
           {
            "marker": {
             "colorbar": {
              "outlinewidth": 0,
              "ticks": ""
             }
            },
            "type": "scattercarpet"
           }
          ],
          "scattergeo": [
           {
            "marker": {
             "colorbar": {
              "outlinewidth": 0,
              "ticks": ""
             }
            },
            "type": "scattergeo"
           }
          ],
          "scattergl": [
           {
            "marker": {
             "colorbar": {
              "outlinewidth": 0,
              "ticks": ""
             }
            },
            "type": "scattergl"
           }
          ],
          "scattermapbox": [
           {
            "marker": {
             "colorbar": {
              "outlinewidth": 0,
              "ticks": ""
             }
            },
            "type": "scattermapbox"
           }
          ],
          "scatterpolar": [
           {
            "marker": {
             "colorbar": {
              "outlinewidth": 0,
              "ticks": ""
             }
            },
            "type": "scatterpolar"
           }
          ],
          "scatterpolargl": [
           {
            "marker": {
             "colorbar": {
              "outlinewidth": 0,
              "ticks": ""
             }
            },
            "type": "scatterpolargl"
           }
          ],
          "scatterternary": [
           {
            "marker": {
             "colorbar": {
              "outlinewidth": 0,
              "ticks": ""
             }
            },
            "type": "scatterternary"
           }
          ],
          "surface": [
           {
            "colorbar": {
             "outlinewidth": 0,
             "ticks": ""
            },
            "colorscale": [
             [
              0,
              "#0d0887"
             ],
             [
              0.1111111111111111,
              "#46039f"
             ],
             [
              0.2222222222222222,
              "#7201a8"
             ],
             [
              0.3333333333333333,
              "#9c179e"
             ],
             [
              0.4444444444444444,
              "#bd3786"
             ],
             [
              0.5555555555555556,
              "#d8576b"
             ],
             [
              0.6666666666666666,
              "#ed7953"
             ],
             [
              0.7777777777777778,
              "#fb9f3a"
             ],
             [
              0.8888888888888888,
              "#fdca26"
             ],
             [
              1,
              "#f0f921"
             ]
            ],
            "type": "surface"
           }
          ],
          "table": [
           {
            "cells": {
             "fill": {
              "color": "#EBF0F8"
             },
             "line": {
              "color": "white"
             }
            },
            "header": {
             "fill": {
              "color": "#C8D4E3"
             },
             "line": {
              "color": "white"
             }
            },
            "type": "table"
           }
          ]
         },
         "layout": {
          "annotationdefaults": {
           "arrowcolor": "#2a3f5f",
           "arrowhead": 0,
           "arrowwidth": 1
          },
          "autotypenumbers": "strict",
          "coloraxis": {
           "colorbar": {
            "outlinewidth": 0,
            "ticks": ""
           }
          },
          "colorscale": {
           "diverging": [
            [
             0,
             "#8e0152"
            ],
            [
             0.1,
             "#c51b7d"
            ],
            [
             0.2,
             "#de77ae"
            ],
            [
             0.3,
             "#f1b6da"
            ],
            [
             0.4,
             "#fde0ef"
            ],
            [
             0.5,
             "#f7f7f7"
            ],
            [
             0.6,
             "#e6f5d0"
            ],
            [
             0.7,
             "#b8e186"
            ],
            [
             0.8,
             "#7fbc41"
            ],
            [
             0.9,
             "#4d9221"
            ],
            [
             1,
             "#276419"
            ]
           ],
           "sequential": [
            [
             0,
             "#0d0887"
            ],
            [
             0.1111111111111111,
             "#46039f"
            ],
            [
             0.2222222222222222,
             "#7201a8"
            ],
            [
             0.3333333333333333,
             "#9c179e"
            ],
            [
             0.4444444444444444,
             "#bd3786"
            ],
            [
             0.5555555555555556,
             "#d8576b"
            ],
            [
             0.6666666666666666,
             "#ed7953"
            ],
            [
             0.7777777777777778,
             "#fb9f3a"
            ],
            [
             0.8888888888888888,
             "#fdca26"
            ],
            [
             1,
             "#f0f921"
            ]
           ],
           "sequentialminus": [
            [
             0,
             "#0d0887"
            ],
            [
             0.1111111111111111,
             "#46039f"
            ],
            [
             0.2222222222222222,
             "#7201a8"
            ],
            [
             0.3333333333333333,
             "#9c179e"
            ],
            [
             0.4444444444444444,
             "#bd3786"
            ],
            [
             0.5555555555555556,
             "#d8576b"
            ],
            [
             0.6666666666666666,
             "#ed7953"
            ],
            [
             0.7777777777777778,
             "#fb9f3a"
            ],
            [
             0.8888888888888888,
             "#fdca26"
            ],
            [
             1,
             "#f0f921"
            ]
           ]
          },
          "colorway": [
           "#636efa",
           "#EF553B",
           "#00cc96",
           "#ab63fa",
           "#FFA15A",
           "#19d3f3",
           "#FF6692",
           "#B6E880",
           "#FF97FF",
           "#FECB52"
          ],
          "font": {
           "color": "#2a3f5f"
          },
          "geo": {
           "bgcolor": "white",
           "lakecolor": "white",
           "landcolor": "#E5ECF6",
           "showlakes": true,
           "showland": true,
           "subunitcolor": "white"
          },
          "hoverlabel": {
           "align": "left"
          },
          "hovermode": "closest",
          "mapbox": {
           "style": "light"
          },
          "paper_bgcolor": "white",
          "plot_bgcolor": "#E5ECF6",
          "polar": {
           "angularaxis": {
            "gridcolor": "white",
            "linecolor": "white",
            "ticks": ""
           },
           "bgcolor": "#E5ECF6",
           "radialaxis": {
            "gridcolor": "white",
            "linecolor": "white",
            "ticks": ""
           }
          },
          "scene": {
           "xaxis": {
            "backgroundcolor": "#E5ECF6",
            "gridcolor": "white",
            "gridwidth": 2,
            "linecolor": "white",
            "showbackground": true,
            "ticks": "",
            "zerolinecolor": "white"
           },
           "yaxis": {
            "backgroundcolor": "#E5ECF6",
            "gridcolor": "white",
            "gridwidth": 2,
            "linecolor": "white",
            "showbackground": true,
            "ticks": "",
            "zerolinecolor": "white"
           },
           "zaxis": {
            "backgroundcolor": "#E5ECF6",
            "gridcolor": "white",
            "gridwidth": 2,
            "linecolor": "white",
            "showbackground": true,
            "ticks": "",
            "zerolinecolor": "white"
           }
          },
          "shapedefaults": {
           "line": {
            "color": "#2a3f5f"
           }
          },
          "ternary": {
           "aaxis": {
            "gridcolor": "white",
            "linecolor": "white",
            "ticks": ""
           },
           "baxis": {
            "gridcolor": "white",
            "linecolor": "white",
            "ticks": ""
           },
           "bgcolor": "#E5ECF6",
           "caxis": {
            "gridcolor": "white",
            "linecolor": "white",
            "ticks": ""
           }
          },
          "title": {
           "x": 0.05
          },
          "xaxis": {
           "automargin": true,
           "gridcolor": "white",
           "linecolor": "white",
           "ticks": "",
           "title": {
            "standoff": 15
           },
           "zerolinecolor": "white",
           "zerolinewidth": 2
          },
          "yaxis": {
           "automargin": true,
           "gridcolor": "white",
           "linecolor": "white",
           "ticks": "",
           "title": {
            "standoff": 15
           },
           "zerolinecolor": "white",
           "zerolinewidth": 2
          }
         }
        },
        "title": {
         "text": "Sample Line Plot"
        },
        "xaxis": {
         "autorange": true,
         "range": [
          0.7597578116553141,
          5.240242188344686
         ],
         "title": {
          "text": "X Axis"
         },
         "type": "linear"
        },
        "yaxis": {
         "autorange": true,
         "range": [
          3.8720379146919433,
          19.796208530805686
         ],
         "title": {
          "text": "Y Axis"
         },
         "type": "linear"
        }
       }
      },
      "image/png": "[encoded data removed]",
      "text/html": [
       "<div>                            <div id=\"80c589cc-7c65-4fd3-914d-2b5b80c66f3d\" class=\"plotly-graph-div\" style=\"height:525px; width:100%;\"></div>            <script type=\"text/javascript\">                require([\"plotly\"], function(Plotly) {                    window.PLOTLYENV=window.PLOTLYENV || {};                                    if (document.getElementById(\"80c589cc-7c65-4fd3-914d-2b5b80c66f3d\")) {                    Plotly.newPlot(                        \"80c589cc-7c65-4fd3-914d-2b5b80c66f3d\",                        [{\"mode\":\"lines\",\"name\":\"Line Plot\",\"x\":[1,2,3,4,5],\"y\":[10,15,13,17,19],\"type\":\"scatter\",\"line\":{\"color\":\"blue\",\"dash\":\"dash\",\"width\":2}},{\"mode\":\"markers\",\"name\":\"Markers\",\"x\":[1,2,3,4,5],\"y\":[5,10,8,12,14],\"type\":\"scatter\",\"line\":{\"color\":\"blue\",\"dash\":\"dash\",\"width\":2}}],                        {\"template\":{\"data\":{\"histogram2dcontour\":[{\"type\":\"histogram2dcontour\",\"colorbar\":{\"outlinewidth\":0,\"ticks\":\"\"},\"colorscale\":[[0.0,\"#0d0887\"],[0.1111111111111111,\"#46039f\"],[0.2222222222222222,\"#7201a8\"],[0.3333333333333333,\"#9c179e\"],[0.4444444444444444,\"#bd3786\"],[0.5555555555555556,\"#d8576b\"],[0.6666666666666666,\"#ed7953\"],[0.7777777777777778,\"#fb9f3a\"],[0.8888888888888888,\"#fdca26\"],[1.0,\"#f0f921\"]]}],\"choropleth\":[{\"type\":\"choropleth\",\"colorbar\":{\"outlinewidth\":0,\"ticks\":\"\"}}],\"histogram2d\":[{\"type\":\"histogram2d\",\"colorbar\":{\"outlinewidth\":0,\"ticks\":\"\"},\"colorscale\":[[0.0,\"#0d0887\"],[0.1111111111111111,\"#46039f\"],[0.2222222222222222,\"#7201a8\"],[0.3333333333333333,\"#9c179e\"],[0.4444444444444444,\"#bd3786\"],[0.5555555555555556,\"#d8576b\"],[0.6666666666666666,\"#ed7953\"],[0.7777777777777778,\"#fb9f3a\"],[0.8888888888888888,\"#fdca26\"],[1.0,\"#f0f921\"]]}],\"heatmap\":[{\"type\":\"heatmap\",\"colorbar\":{\"outlinewidth\":0,\"ticks\":\"\"},\"colorscale\":[[0.0,\"#0d0887\"],[0.1111111111111111,\"#46039f\"],[0.2222222222222222,\"#7201a8\"],[0.3333333333333333,\"#9c179e\"],[0.4444444444444444,\"#bd3786\"],[0.5555555555555556,\"#d8576b\"],[0.6666666666666666,\"#ed7953\"],[0.7777777777777778,\"#fb9f3a\"],[0.8888888888888888,\"#fdca26\"],[1.0,\"#f0f921\"]]}],\"heatmapgl\":[{\"type\":\"heatmapgl\",\"colorbar\":{\"outlinewidth\":0,\"ticks\":\"\"},\"colorscale\":[[0.0,\"#0d0887\"],[0.1111111111111111,\"#46039f\"],[0.2222222222222222,\"#7201a8\"],[0.3333333333333333,\"#9c179e\"],[0.4444444444444444,\"#bd3786\"],[0.5555555555555556,\"#d8576b\"],[0.6666666666666666,\"#ed7953\"],[0.7777777777777778,\"#fb9f3a\"],[0.8888888888888888,\"#fdca26\"],[1.0,\"#f0f921\"]]}],\"contourcarpet\":[{\"type\":\"contourcarpet\",\"colorbar\":{\"outlinewidth\":0,\"ticks\":\"\"}}],\"contour\":[{\"type\":\"contour\",\"colorbar\":{\"outlinewidth\":0,\"ticks\":\"\"},\"colorscale\":[[0.0,\"#0d0887\"],[0.1111111111111111,\"#46039f\"],[0.2222222222222222,\"#7201a8\"],[0.3333333333333333,\"#9c179e\"],[0.4444444444444444,\"#bd3786\"],[0.5555555555555556,\"#d8576b\"],[0.6666666666666666,\"#ed7953\"],[0.7777777777777778,\"#fb9f3a\"],[0.8888888888888888,\"#fdca26\"],[1.0,\"#f0f921\"]]}],\"surface\":[{\"type\":\"surface\",\"colorbar\":{\"outlinewidth\":0,\"ticks\":\"\"},\"colorscale\":[[0.0,\"#0d0887\"],[0.1111111111111111,\"#46039f\"],[0.2222222222222222,\"#7201a8\"],[0.3333333333333333,\"#9c179e\"],[0.4444444444444444,\"#bd3786\"],[0.5555555555555556,\"#d8576b\"],[0.6666666666666666,\"#ed7953\"],[0.7777777777777778,\"#fb9f3a\"],[0.8888888888888888,\"#fdca26\"],[1.0,\"#f0f921\"]]}],\"mesh3d\":[{\"type\":\"mesh3d\",\"colorbar\":{\"outlinewidth\":0,\"ticks\":\"\"}}],\"scatter\":[{\"fillpattern\":{\"fillmode\":\"overlay\",\"size\":10,\"solidity\":0.2},\"type\":\"scatter\"}],\"parcoords\":[{\"type\":\"parcoords\",\"line\":{\"colorbar\":{\"outlinewidth\":0,\"ticks\":\"\"}}}],\"scatterpolargl\":[{\"type\":\"scatterpolargl\",\"marker\":{\"colorbar\":{\"outlinewidth\":0,\"ticks\":\"\"}}}],\"bar\":[{\"error_x\":{\"color\":\"#2a3f5f\"},\"error_y\":{\"color\":\"#2a3f5f\"},\"marker\":{\"line\":{\"color\":\"#E5ECF6\",\"width\":0.5},\"pattern\":{\"fillmode\":\"overlay\",\"size\":10,\"solidity\":0.2}},\"type\":\"bar\"}],\"scattergeo\":[{\"type\":\"scattergeo\",\"marker\":{\"colorbar\":{\"outlinewidth\":0,\"ticks\":\"\"}}}],\"scatterpolar\":[{\"type\":\"scatterpolar\",\"marker\":{\"colorbar\":{\"outlinewidth\":0,\"ticks\":\"\"}}}],\"histogram\":[{\"marker\":{\"pattern\":{\"fillmode\":\"overlay\",\"size\":10,\"solidity\":0.2}},\"type\":\"histogram\"}],\"scattergl\":[{\"type\":\"scattergl\",\"marker\":{\"colorbar\":{\"outlinewidth\":0,\"ticks\":\"\"}}}],\"scatter3d\":[{\"type\":\"scatter3d\",\"line\":{\"colorbar\":{\"outlinewidth\":0,\"ticks\":\"\"}},\"marker\":{\"colorbar\":{\"outlinewidth\":0,\"ticks\":\"\"}}}],\"scattermapbox\":[{\"type\":\"scattermapbox\",\"marker\":{\"colorbar\":{\"outlinewidth\":0,\"ticks\":\"\"}}}],\"scatterternary\":[{\"type\":\"scatterternary\",\"marker\":{\"colorbar\":{\"outlinewidth\":0,\"ticks\":\"\"}}}],\"scattercarpet\":[{\"type\":\"scattercarpet\",\"marker\":{\"colorbar\":{\"outlinewidth\":0,\"ticks\":\"\"}}}],\"carpet\":[{\"aaxis\":{\"endlinecolor\":\"#2a3f5f\",\"gridcolor\":\"white\",\"linecolor\":\"white\",\"minorgridcolor\":\"white\",\"startlinecolor\":\"#2a3f5f\"},\"baxis\":{\"endlinecolor\":\"#2a3f5f\",\"gridcolor\":\"white\",\"linecolor\":\"white\",\"minorgridcolor\":\"white\",\"startlinecolor\":\"#2a3f5f\"},\"type\":\"carpet\"}],\"table\":[{\"cells\":{\"fill\":{\"color\":\"#EBF0F8\"},\"line\":{\"color\":\"white\"}},\"header\":{\"fill\":{\"color\":\"#C8D4E3\"},\"line\":{\"color\":\"white\"}},\"type\":\"table\"}],\"barpolar\":[{\"marker\":{\"line\":{\"color\":\"#E5ECF6\",\"width\":0.5},\"pattern\":{\"fillmode\":\"overlay\",\"size\":10,\"solidity\":0.2}},\"type\":\"barpolar\"}],\"pie\":[{\"automargin\":true,\"type\":\"pie\"}]},\"layout\":{\"autotypenumbers\":\"strict\",\"colorway\":[\"#636efa\",\"#EF553B\",\"#00cc96\",\"#ab63fa\",\"#FFA15A\",\"#19d3f3\",\"#FF6692\",\"#B6E880\",\"#FF97FF\",\"#FECB52\"],\"font\":{\"color\":\"#2a3f5f\"},\"hovermode\":\"closest\",\"hoverlabel\":{\"align\":\"left\"},\"paper_bgcolor\":\"white\",\"plot_bgcolor\":\"#E5ECF6\",\"polar\":{\"bgcolor\":\"#E5ECF6\",\"angularaxis\":{\"gridcolor\":\"white\",\"linecolor\":\"white\",\"ticks\":\"\"},\"radialaxis\":{\"gridcolor\":\"white\",\"linecolor\":\"white\",\"ticks\":\"\"}},\"ternary\":{\"bgcolor\":\"#E5ECF6\",\"aaxis\":{\"gridcolor\":\"white\",\"linecolor\":\"white\",\"ticks\":\"\"},\"baxis\":{\"gridcolor\":\"white\",\"linecolor\":\"white\",\"ticks\":\"\"},\"caxis\":{\"gridcolor\":\"white\",\"linecolor\":\"white\",\"ticks\":\"\"}},\"coloraxis\":{\"colorbar\":{\"outlinewidth\":0,\"ticks\":\"\"}},\"colorscale\":{\"sequential\":[[0.0,\"#0d0887\"],[0.1111111111111111,\"#46039f\"],[0.2222222222222222,\"#7201a8\"],[0.3333333333333333,\"#9c179e\"],[0.4444444444444444,\"#bd3786\"],[0.5555555555555556,\"#d8576b\"],[0.6666666666666666,\"#ed7953\"],[0.7777777777777778,\"#fb9f3a\"],[0.8888888888888888,\"#fdca26\"],[1.0,\"#f0f921\"]],\"sequentialminus\":[[0.0,\"#0d0887\"],[0.1111111111111111,\"#46039f\"],[0.2222222222222222,\"#7201a8\"],[0.3333333333333333,\"#9c179e\"],[0.4444444444444444,\"#bd3786\"],[0.5555555555555556,\"#d8576b\"],[0.6666666666666666,\"#ed7953\"],[0.7777777777777778,\"#fb9f3a\"],[0.8888888888888888,\"#fdca26\"],[1.0,\"#f0f921\"]],\"diverging\":[[0,\"#8e0152\"],[0.1,\"#c51b7d\"],[0.2,\"#de77ae\"],[0.3,\"#f1b6da\"],[0.4,\"#fde0ef\"],[0.5,\"#f7f7f7\"],[0.6,\"#e6f5d0\"],[0.7,\"#b8e186\"],[0.8,\"#7fbc41\"],[0.9,\"#4d9221\"],[1,\"#276419\"]]},\"xaxis\":{\"gridcolor\":\"white\",\"linecolor\":\"white\",\"ticks\":\"\",\"title\":{\"standoff\":15},\"zerolinecolor\":\"white\",\"automargin\":true,\"zerolinewidth\":2},\"yaxis\":{\"gridcolor\":\"white\",\"linecolor\":\"white\",\"ticks\":\"\",\"title\":{\"standoff\":15},\"zerolinecolor\":\"white\",\"automargin\":true,\"zerolinewidth\":2},\"scene\":{\"xaxis\":{\"backgroundcolor\":\"#E5ECF6\",\"gridcolor\":\"white\",\"linecolor\":\"white\",\"showbackground\":true,\"ticks\":\"\",\"zerolinecolor\":\"white\",\"gridwidth\":2},\"yaxis\":{\"backgroundcolor\":\"#E5ECF6\",\"gridcolor\":\"white\",\"linecolor\":\"white\",\"showbackground\":true,\"ticks\":\"\",\"zerolinecolor\":\"white\",\"gridwidth\":2},\"zaxis\":{\"backgroundcolor\":\"#E5ECF6\",\"gridcolor\":\"white\",\"linecolor\":\"white\",\"showbackground\":true,\"ticks\":\"\",\"zerolinecolor\":\"white\",\"gridwidth\":2}},\"shapedefaults\":{\"line\":{\"color\":\"#2a3f5f\"}},\"annotationdefaults\":{\"arrowcolor\":\"#2a3f5f\",\"arrowhead\":0,\"arrowwidth\":1},\"geo\":{\"bgcolor\":\"white\",\"landcolor\":\"#E5ECF6\",\"subunitcolor\":\"white\",\"showland\":true,\"showlakes\":true,\"lakecolor\":\"white\"},\"title\":{\"x\":0.05},\"mapbox\":{\"style\":\"light\"}}},\"title\":{\"text\":\"Sample Line Plot\"},\"xaxis\":{\"title\":{\"text\":\"X Axis\"}},\"yaxis\":{\"title\":{\"text\":\"Y Axis\"}},\"annotations\":[{\"arrowhead\":1,\"showarrow\":true,\"text\":\"Annotation Text\",\"x\":3,\"y\":13}]},                        {\"responsive\": true}                    ).then(function(){\n",
       "                            \n",
       "var gd = document.getElementById('80c589cc-7c65-4fd3-914d-2b5b80c66f3d');\n",
       "var x = new MutationObserver(function (mutations, observer) {{\n",
       "        var display = window.getComputedStyle(gd).display;\n",
       "        if (!display || display === 'none') {{\n",
       "            console.log([gd, 'removed!']);\n",
       "            Plotly.purge(gd);\n",
       "            observer.disconnect();\n",
       "        }}\n",
       "}});\n",
       "\n",
       "// Listen for the removal of the full notebook cells\n",
       "var notebookContainer = gd.closest('#notebook-container');\n",
       "if (notebookContainer) {{\n",
       "    x.observe(notebookContainer, {childList: true});\n",
       "}}\n",
       "\n",
       "// Listen for the clearing of the current output cell\n",
       "var outputEl = gd.closest('.output');\n",
       "if (outputEl) {{\n",
       "    x.observe(outputEl, {childList: true});\n",
       "}}\n",
       "\n",
       "                        })                };                });            </script>        </div>"
      ]
     },
     "metadata": {},
     "output_type": "display_data"
    }
   ],
   "source": [
    "\n",
    "\n",
    "# Sample data\n",
    "x = [1, 2, 3, 4, 5]\n",
    "y = [10, 15, 13, 17, 19]\n",
    "\n",
    "# Create a figure\n",
    "fig = go.Figure()\n",
    "fig.add_trace(go.Scatter(x=x, y=y, mode='lines', name='Line Plot'))\n",
    "fig.add_trace(go.Scatter(x=x, y=[v-5 for v in y], mode='markers', name='Markers'))\n",
    "\n",
    "# Customizations\n",
    "fig.update_layout(\n",
    "    title='Sample Line Plot',\n",
    "    xaxis_title='X Axis',\n",
    "    yaxis_title='Y Axis'\n",
    ")\n",
    "\n",
    "fig.update_traces(\n",
    "    line=dict(dash='dash', width=2, color='blue')\n",
    ")\n",
    "\n",
    "fig.add_annotation(\n",
    "    x=3, y=13,\n",
    "    text='Annotation Text',\n",
    "    showarrow=True,\n",
    "    arrowhead=1\n",
    ")\n",
    "\n",
    "\n",
    "fig.show()\n",
    "\n",
    "# Show the figure\n",
    "fig.show()\n"
   ]
  },
  {
   "cell_type": "code",
   "execution_count": 226,
   "id": "dbe68ff1-09d2-4a57-b7ff-2e453f174499",
   "metadata": {
    "tags": []
   },
   "outputs": [],
   "source": [
    "def get_age_data():\n",
    "    # Initialize SCB client\n",
    "    scb = SCB('sv')\n",
    "\n",
    "    # Navigate to the desired dataset\n",
    "    scb.go_down('BE')\n",
    "    scb.go_down('BE0101')\n",
    "    scb.go_down('BE0101B')\n",
    "    scb.go_down('BefolkMedianAlder')\n",
    "\n",
    "    # Set query parameters\n",
    "    scb.set_query(kön=['män','kvinnor','totalt'],\n",
    "                  tabellinnehåll=['Medelålder', 'Medianålder'], \n",
    "                  år=[str(year) for year in range(1968, 2024)])\n",
    "\n",
    "    # Retrieve data\n",
    "    data = scb.get_data()['data']\n",
    "\n",
    "    # Convert to DataFrame\n",
    "    df = pd.DataFrame(data)\n",
    "\n",
    "    # Split the 'key' column into separate columns\n",
    "    df[['category', 'year']] = pd.DataFrame(df['key'].tolist(), index=df.index)\n",
    "\n",
    "    # Drop the original 'key' column\n",
    "    df.drop('key', axis=1, inplace=True)\n",
    "\n",
    "    # Extract mean age and median age from the 'values' column\n",
    "    df['mean_age'] = df['values'].apply(lambda x: float(x[0]) if x[0] != '..' else np.nan)\n",
    "    df['median_age'] = df['values'].apply(lambda x: float(x[1]) if x[1] != '..' else np.nan)\n",
    "\n",
    "    # Drop the original 'values' column\n",
    "    df.drop('values', axis=1, inplace=True)\n",
    "\n",
    "    # Rename categories\n",
    "    category_mapping = {'1': 'Male', '1+2': 'Total', '2': 'Female'}\n",
    "    df['category'] = df['category'].map(category_mapping)\n",
    "\n",
    "    # Create Pivot table\n",
    "    pivot_df = df.pivot_table(index='year', columns='category')\n",
    "\n",
    "    return pivot_df\n",
    "\n",
    "age_df = get_age_data()"
   ]
  },
  {
   "cell_type": "code",
   "execution_count": 236,
   "id": "7c9865b7-e19d-491c-b636-335724cb12ba",
   "metadata": {
    "tags": []
   },
   "outputs": [
    {
     "data": {
      "application/vnd.plotly.v1+json": {
       "config": {
        "plotlyServerURL": "https://plot.ly"
       },
       "data": [
        {
         "line": {
          "color": "blue",
          "dash": "dash",
          "width": 2
         },
         "mode": "lines",
         "name": "Mean Male Age",
         "type": "scatter",
         "x": [
          "1968",
          "1969",
          "1970",
          "1971",
          "1972",
          "1973",
          "1974",
          "1975",
          "1976",
          "1977",
          "1978",
          "1979",
          "1980",
          "1981",
          "1982",
          "1983",
          "1984",
          "1985",
          "1986",
          "1987",
          "1988",
          "1989",
          "1990",
          "1991",
          "1992",
          "1993",
          "1994",
          "1995",
          "1996",
          "1997",
          "1998",
          "1999",
          "2000",
          "2001",
          "2002",
          "2003",
          "2004",
          "2005",
          "2006",
          "2007",
          "2008",
          "2009",
          "2010",
          "2011",
          "2012",
          "2013",
          "2014",
          "2015",
          "2016",
          "2017",
          "2018",
          "2019",
          "2020",
          "2021",
          "2022",
          "2023"
         ],
         "y": [
          36.2,
          36.23,
          36.28,
          36.38,
          36.49,
          36.61,
          36.69,
          36.78,
          36.87,
          36.98,
          37.12,
          37.24,
          37.36,
          37.5,
          37.65,
          37.8,
          37.93,
          38.01,
          38.08,
          38.13,
          38.13,
          38.1,
          38.06,
          38.03,
          38.03,
          38.03,
          38.06,
          38.18,
          38.35,
          38.52,
          38.7,
          38.87,
          39.04,
          39.19,
          39.32,
          39.44,
          39.57,
          39.69,
          39.76,
          39.82,
          39.88,
          39.94,
          39.99,
          40.09,
          40.16,
          40.22,
          40.26,
          40.29,
          40.26,
          40.27,
          40.32,
          40.41,
          40.55,
          40.69,
          40.87,
          41.11
         ]
        },
        {
         "line": {
          "color": "red",
          "dash": "dash",
          "width": 2
         },
         "mode": "lines",
         "name": "Mean Female Age",
         "type": "scatter",
         "x": [
          "1968",
          "1969",
          "1970",
          "1971",
          "1972",
          "1973",
          "1974",
          "1975",
          "1976",
          "1977",
          "1978",
          "1979",
          "1980",
          "1981",
          "1982",
          "1983",
          "1984",
          "1985",
          "1986",
          "1987",
          "1988",
          "1989",
          "1990",
          "1991",
          "1992",
          "1993",
          "1994",
          "1995",
          "1996",
          "1997",
          "1998",
          "1999",
          "2000",
          "2001",
          "2002",
          "2003",
          "2004",
          "2005",
          "2006",
          "2007",
          "2008",
          "2009",
          "2010",
          "2011",
          "2012",
          "2013",
          "2014",
          "2015",
          "2016",
          "2017",
          "2018",
          "2019",
          "2020",
          "2021",
          "2022",
          "2023"
         ],
         "y": [
          37.9,
          37.98,
          38.07,
          38.22,
          38.38,
          38.55,
          38.69,
          38.83,
          38.98,
          39.15,
          39.33,
          39.51,
          39.67,
          39.85,
          40.05,
          40.26,
          40.44,
          40.57,
          40.68,
          40.76,
          40.79,
          40.79,
          40.75,
          40.74,
          40.75,
          40.74,
          40.76,
          40.88,
          41.04,
          41.2,
          41.36,
          41.5,
          41.62,
          41.73,
          41.8,
          41.88,
          41.97,
          42.05,
          42.07,
          42.09,
          42.1,
          42.11,
          42.12,
          42.16,
          42.18,
          42.19,
          42.2,
          42.2,
          42.16,
          42.14,
          42.15,
          42.22,
          42.33,
          42.44,
          42.58,
          42.78
         ]
        }
       ],
       "layout": {
        "autosize": true,
        "template": {
         "data": {
          "bar": [
           {
            "error_x": {
             "color": "#2a3f5f"
            },
            "error_y": {
             "color": "#2a3f5f"
            },
            "marker": {
             "line": {
              "color": "#E5ECF6",
              "width": 0.5
             },
             "pattern": {
              "fillmode": "overlay",
              "size": 10,
              "solidity": 0.2
             }
            },
            "type": "bar"
           }
          ],
          "barpolar": [
           {
            "marker": {
             "line": {
              "color": "#E5ECF6",
              "width": 0.5
             },
             "pattern": {
              "fillmode": "overlay",
              "size": 10,
              "solidity": 0.2
             }
            },
            "type": "barpolar"
           }
          ],
          "carpet": [
           {
            "aaxis": {
             "endlinecolor": "#2a3f5f",
             "gridcolor": "white",
             "linecolor": "white",
             "minorgridcolor": "white",
             "startlinecolor": "#2a3f5f"
            },
            "baxis": {
             "endlinecolor": "#2a3f5f",
             "gridcolor": "white",
             "linecolor": "white",
             "minorgridcolor": "white",
             "startlinecolor": "#2a3f5f"
            },
            "type": "carpet"
           }
          ],
          "choropleth": [
           {
            "colorbar": {
             "outlinewidth": 0,
             "ticks": ""
            },
            "type": "choropleth"
           }
          ],
          "contour": [
           {
            "colorbar": {
             "outlinewidth": 0,
             "ticks": ""
            },
            "colorscale": [
             [
              0,
              "#0d0887"
             ],
             [
              0.1111111111111111,
              "#46039f"
             ],
             [
              0.2222222222222222,
              "#7201a8"
             ],
             [
              0.3333333333333333,
              "#9c179e"
             ],
             [
              0.4444444444444444,
              "#bd3786"
             ],
             [
              0.5555555555555556,
              "#d8576b"
             ],
             [
              0.6666666666666666,
              "#ed7953"
             ],
             [
              0.7777777777777778,
              "#fb9f3a"
             ],
             [
              0.8888888888888888,
              "#fdca26"
             ],
             [
              1,
              "#f0f921"
             ]
            ],
            "type": "contour"
           }
          ],
          "contourcarpet": [
           {
            "colorbar": {
             "outlinewidth": 0,
             "ticks": ""
            },
            "type": "contourcarpet"
           }
          ],
          "heatmap": [
           {
            "colorbar": {
             "outlinewidth": 0,
             "ticks": ""
            },
            "colorscale": [
             [
              0,
              "#0d0887"
             ],
             [
              0.1111111111111111,
              "#46039f"
             ],
             [
              0.2222222222222222,
              "#7201a8"
             ],
             [
              0.3333333333333333,
              "#9c179e"
             ],
             [
              0.4444444444444444,
              "#bd3786"
             ],
             [
              0.5555555555555556,
              "#d8576b"
             ],
             [
              0.6666666666666666,
              "#ed7953"
             ],
             [
              0.7777777777777778,
              "#fb9f3a"
             ],
             [
              0.8888888888888888,
              "#fdca26"
             ],
             [
              1,
              "#f0f921"
             ]
            ],
            "type": "heatmap"
           }
          ],
          "heatmapgl": [
           {
            "colorbar": {
             "outlinewidth": 0,
             "ticks": ""
            },
            "colorscale": [
             [
              0,
              "#0d0887"
             ],
             [
              0.1111111111111111,
              "#46039f"
             ],
             [
              0.2222222222222222,
              "#7201a8"
             ],
             [
              0.3333333333333333,
              "#9c179e"
             ],
             [
              0.4444444444444444,
              "#bd3786"
             ],
             [
              0.5555555555555556,
              "#d8576b"
             ],
             [
              0.6666666666666666,
              "#ed7953"
             ],
             [
              0.7777777777777778,
              "#fb9f3a"
             ],
             [
              0.8888888888888888,
              "#fdca26"
             ],
             [
              1,
              "#f0f921"
             ]
            ],
            "type": "heatmapgl"
           }
          ],
          "histogram": [
           {
            "marker": {
             "pattern": {
              "fillmode": "overlay",
              "size": 10,
              "solidity": 0.2
             }
            },
            "type": "histogram"
           }
          ],
          "histogram2d": [
           {
            "colorbar": {
             "outlinewidth": 0,
             "ticks": ""
            },
            "colorscale": [
             [
              0,
              "#0d0887"
             ],
             [
              0.1111111111111111,
              "#46039f"
             ],
             [
              0.2222222222222222,
              "#7201a8"
             ],
             [
              0.3333333333333333,
              "#9c179e"
             ],
             [
              0.4444444444444444,
              "#bd3786"
             ],
             [
              0.5555555555555556,
              "#d8576b"
             ],
             [
              0.6666666666666666,
              "#ed7953"
             ],
             [
              0.7777777777777778,
              "#fb9f3a"
             ],
             [
              0.8888888888888888,
              "#fdca26"
             ],
             [
              1,
              "#f0f921"
             ]
            ],
            "type": "histogram2d"
           }
          ],
          "histogram2dcontour": [
           {
            "colorbar": {
             "outlinewidth": 0,
             "ticks": ""
            },
            "colorscale": [
             [
              0,
              "#0d0887"
             ],
             [
              0.1111111111111111,
              "#46039f"
             ],
             [
              0.2222222222222222,
              "#7201a8"
             ],
             [
              0.3333333333333333,
              "#9c179e"
             ],
             [
              0.4444444444444444,
              "#bd3786"
             ],
             [
              0.5555555555555556,
              "#d8576b"
             ],
             [
              0.6666666666666666,
              "#ed7953"
             ],
             [
              0.7777777777777778,
              "#fb9f3a"
             ],
             [
              0.8888888888888888,
              "#fdca26"
             ],
             [
              1,
              "#f0f921"
             ]
            ],
            "type": "histogram2dcontour"
           }
          ],
          "mesh3d": [
           {
            "colorbar": {
             "outlinewidth": 0,
             "ticks": ""
            },
            "type": "mesh3d"
           }
          ],
          "parcoords": [
           {
            "line": {
             "colorbar": {
              "outlinewidth": 0,
              "ticks": ""
             }
            },
            "type": "parcoords"
           }
          ],
          "pie": [
           {
            "automargin": true,
            "type": "pie"
           }
          ],
          "scatter": [
           {
            "fillpattern": {
             "fillmode": "overlay",
             "size": 10,
             "solidity": 0.2
            },
            "type": "scatter"
           }
          ],
          "scatter3d": [
           {
            "line": {
             "colorbar": {
              "outlinewidth": 0,
              "ticks": ""
             }
            },
            "marker": {
             "colorbar": {
              "outlinewidth": 0,
              "ticks": ""
             }
            },
            "type": "scatter3d"
           }
          ],
          "scattercarpet": [
           {
            "marker": {
             "colorbar": {
              "outlinewidth": 0,
              "ticks": ""
             }
            },
            "type": "scattercarpet"
           }
          ],
          "scattergeo": [
           {
            "marker": {
             "colorbar": {
              "outlinewidth": 0,
              "ticks": ""
             }
            },
            "type": "scattergeo"
           }
          ],
          "scattergl": [
           {
            "marker": {
             "colorbar": {
              "outlinewidth": 0,
              "ticks": ""
             }
            },
            "type": "scattergl"
           }
          ],
          "scattermapbox": [
           {
            "marker": {
             "colorbar": {
              "outlinewidth": 0,
              "ticks": ""
             }
            },
            "type": "scattermapbox"
           }
          ],
          "scatterpolar": [
           {
            "marker": {
             "colorbar": {
              "outlinewidth": 0,
              "ticks": ""
             }
            },
            "type": "scatterpolar"
           }
          ],
          "scatterpolargl": [
           {
            "marker": {
             "colorbar": {
              "outlinewidth": 0,
              "ticks": ""
             }
            },
            "type": "scatterpolargl"
           }
          ],
          "scatterternary": [
           {
            "marker": {
             "colorbar": {
              "outlinewidth": 0,
              "ticks": ""
             }
            },
            "type": "scatterternary"
           }
          ],
          "surface": [
           {
            "colorbar": {
             "outlinewidth": 0,
             "ticks": ""
            },
            "colorscale": [
             [
              0,
              "#0d0887"
             ],
             [
              0.1111111111111111,
              "#46039f"
             ],
             [
              0.2222222222222222,
              "#7201a8"
             ],
             [
              0.3333333333333333,
              "#9c179e"
             ],
             [
              0.4444444444444444,
              "#bd3786"
             ],
             [
              0.5555555555555556,
              "#d8576b"
             ],
             [
              0.6666666666666666,
              "#ed7953"
             ],
             [
              0.7777777777777778,
              "#fb9f3a"
             ],
             [
              0.8888888888888888,
              "#fdca26"
             ],
             [
              1,
              "#f0f921"
             ]
            ],
            "type": "surface"
           }
          ],
          "table": [
           {
            "cells": {
             "fill": {
              "color": "#EBF0F8"
             },
             "line": {
              "color": "white"
             }
            },
            "header": {
             "fill": {
              "color": "#C8D4E3"
             },
             "line": {
              "color": "white"
             }
            },
            "type": "table"
           }
          ]
         },
         "layout": {
          "annotationdefaults": {
           "arrowcolor": "#2a3f5f",
           "arrowhead": 0,
           "arrowwidth": 1
          },
          "autotypenumbers": "strict",
          "coloraxis": {
           "colorbar": {
            "outlinewidth": 0,
            "ticks": ""
           }
          },
          "colorscale": {
           "diverging": [
            [
             0,
             "#8e0152"
            ],
            [
             0.1,
             "#c51b7d"
            ],
            [
             0.2,
             "#de77ae"
            ],
            [
             0.3,
             "#f1b6da"
            ],
            [
             0.4,
             "#fde0ef"
            ],
            [
             0.5,
             "#f7f7f7"
            ],
            [
             0.6,
             "#e6f5d0"
            ],
            [
             0.7,
             "#b8e186"
            ],
            [
             0.8,
             "#7fbc41"
            ],
            [
             0.9,
             "#4d9221"
            ],
            [
             1,
             "#276419"
            ]
           ],
           "sequential": [
            [
             0,
             "#0d0887"
            ],
            [
             0.1111111111111111,
             "#46039f"
            ],
            [
             0.2222222222222222,
             "#7201a8"
            ],
            [
             0.3333333333333333,
             "#9c179e"
            ],
            [
             0.4444444444444444,
             "#bd3786"
            ],
            [
             0.5555555555555556,
             "#d8576b"
            ],
            [
             0.6666666666666666,
             "#ed7953"
            ],
            [
             0.7777777777777778,
             "#fb9f3a"
            ],
            [
             0.8888888888888888,
             "#fdca26"
            ],
            [
             1,
             "#f0f921"
            ]
           ],
           "sequentialminus": [
            [
             0,
             "#0d0887"
            ],
            [
             0.1111111111111111,
             "#46039f"
            ],
            [
             0.2222222222222222,
             "#7201a8"
            ],
            [
             0.3333333333333333,
             "#9c179e"
            ],
            [
             0.4444444444444444,
             "#bd3786"
            ],
            [
             0.5555555555555556,
             "#d8576b"
            ],
            [
             0.6666666666666666,
             "#ed7953"
            ],
            [
             0.7777777777777778,
             "#fb9f3a"
            ],
            [
             0.8888888888888888,
             "#fdca26"
            ],
            [
             1,
             "#f0f921"
            ]
           ]
          },
          "colorway": [
           "#636efa",
           "#EF553B",
           "#00cc96",
           "#ab63fa",
           "#FFA15A",
           "#19d3f3",
           "#FF6692",
           "#B6E880",
           "#FF97FF",
           "#FECB52"
          ],
          "font": {
           "color": "#2a3f5f"
          },
          "geo": {
           "bgcolor": "white",
           "lakecolor": "white",
           "landcolor": "#E5ECF6",
           "showlakes": true,
           "showland": true,
           "subunitcolor": "white"
          },
          "hoverlabel": {
           "align": "left"
          },
          "hovermode": "closest",
          "mapbox": {
           "style": "light"
          },
          "paper_bgcolor": "white",
          "plot_bgcolor": "#E5ECF6",
          "polar": {
           "angularaxis": {
            "gridcolor": "white",
            "linecolor": "white",
            "ticks": ""
           },
           "bgcolor": "#E5ECF6",
           "radialaxis": {
            "gridcolor": "white",
            "linecolor": "white",
            "ticks": ""
           }
          },
          "scene": {
           "xaxis": {
            "backgroundcolor": "#E5ECF6",
            "gridcolor": "white",
            "gridwidth": 2,
            "linecolor": "white",
            "showbackground": true,
            "ticks": "",
            "zerolinecolor": "white"
           },
           "yaxis": {
            "backgroundcolor": "#E5ECF6",
            "gridcolor": "white",
            "gridwidth": 2,
            "linecolor": "white",
            "showbackground": true,
            "ticks": "",
            "zerolinecolor": "white"
           },
           "zaxis": {
            "backgroundcolor": "#E5ECF6",
            "gridcolor": "white",
            "gridwidth": 2,
            "linecolor": "white",
            "showbackground": true,
            "ticks": "",
            "zerolinecolor": "white"
           }
          },
          "shapedefaults": {
           "line": {
            "color": "#2a3f5f"
           }
          },
          "ternary": {
           "aaxis": {
            "gridcolor": "white",
            "linecolor": "white",
            "ticks": ""
           },
           "baxis": {
            "gridcolor": "white",
            "linecolor": "white",
            "ticks": ""
           },
           "bgcolor": "#E5ECF6",
           "caxis": {
            "gridcolor": "white",
            "linecolor": "white",
            "ticks": ""
           }
          },
          "title": {
           "x": 0.05
          },
          "xaxis": {
           "automargin": true,
           "gridcolor": "white",
           "linecolor": "white",
           "ticks": "",
           "title": {
            "standoff": 15
           },
           "zerolinecolor": "white",
           "zerolinewidth": 2
          },
          "yaxis": {
           "automargin": true,
           "gridcolor": "white",
           "linecolor": "white",
           "ticks": "",
           "title": {
            "standoff": 15
           },
           "zerolinecolor": "white",
           "zerolinewidth": 2
          }
         }
        },
        "title": {
         "text": "Mean age over the years"
        },
        "xaxis": {
         "autorange": true,
         "range": [
          0,
          55
         ],
         "title": {
          "text": "Time"
         },
         "type": "category"
        },
        "yaxis": {
         "autorange": true,
         "range": [
          35.83444444444445,
          43.14555555555555
         ],
         "title": {
          "text": "Age"
         },
         "type": "linear"
        }
       }
      },
      "image/png": "[encoded data removed]",
      "text/html": [
       "<div>                            <div id=\"ce717fec-a628-42a8-a676-ba08645e5c90\" class=\"plotly-graph-div\" style=\"height:525px; width:100%;\"></div>            <script type=\"text/javascript\">                require([\"plotly\"], function(Plotly) {                    window.PLOTLYENV=window.PLOTLYENV || {};                                    if (document.getElementById(\"ce717fec-a628-42a8-a676-ba08645e5c90\")) {                    Plotly.newPlot(                        \"ce717fec-a628-42a8-a676-ba08645e5c90\",                        [{\"line\":{\"color\":\"blue\",\"dash\":\"dash\",\"width\":2},\"mode\":\"lines\",\"name\":\"Mean Male Age\",\"x\":[\"1968\",\"1969\",\"1970\",\"1971\",\"1972\",\"1973\",\"1974\",\"1975\",\"1976\",\"1977\",\"1978\",\"1979\",\"1980\",\"1981\",\"1982\",\"1983\",\"1984\",\"1985\",\"1986\",\"1987\",\"1988\",\"1989\",\"1990\",\"1991\",\"1992\",\"1993\",\"1994\",\"1995\",\"1996\",\"1997\",\"1998\",\"1999\",\"2000\",\"2001\",\"2002\",\"2003\",\"2004\",\"2005\",\"2006\",\"2007\",\"2008\",\"2009\",\"2010\",\"2011\",\"2012\",\"2013\",\"2014\",\"2015\",\"2016\",\"2017\",\"2018\",\"2019\",\"2020\",\"2021\",\"2022\",\"2023\"],\"y\":[36.2,36.23,36.28,36.38,36.49,36.61,36.69,36.78,36.87,36.98,37.12,37.24,37.36,37.5,37.65,37.8,37.93,38.01,38.08,38.13,38.13,38.1,38.06,38.03,38.03,38.03,38.06,38.18,38.35,38.52,38.7,38.87,39.04,39.19,39.32,39.44,39.57,39.69,39.76,39.82,39.88,39.94,39.99,40.09,40.16,40.22,40.26,40.29,40.26,40.27,40.32,40.41,40.55,40.69,40.87,41.11],\"type\":\"scatter\"},{\"line\":{\"color\":\"red\",\"dash\":\"dash\",\"width\":2},\"mode\":\"lines\",\"name\":\"Mean Female Age\",\"x\":[\"1968\",\"1969\",\"1970\",\"1971\",\"1972\",\"1973\",\"1974\",\"1975\",\"1976\",\"1977\",\"1978\",\"1979\",\"1980\",\"1981\",\"1982\",\"1983\",\"1984\",\"1985\",\"1986\",\"1987\",\"1988\",\"1989\",\"1990\",\"1991\",\"1992\",\"1993\",\"1994\",\"1995\",\"1996\",\"1997\",\"1998\",\"1999\",\"2000\",\"2001\",\"2002\",\"2003\",\"2004\",\"2005\",\"2006\",\"2007\",\"2008\",\"2009\",\"2010\",\"2011\",\"2012\",\"2013\",\"2014\",\"2015\",\"2016\",\"2017\",\"2018\",\"2019\",\"2020\",\"2021\",\"2022\",\"2023\"],\"y\":[37.9,37.98,38.07,38.22,38.38,38.55,38.69,38.83,38.98,39.15,39.33,39.51,39.67,39.85,40.05,40.26,40.44,40.57,40.68,40.76,40.79,40.79,40.75,40.74,40.75,40.74,40.76,40.88,41.04,41.2,41.36,41.5,41.62,41.73,41.8,41.88,41.97,42.05,42.07,42.09,42.1,42.11,42.12,42.16,42.18,42.19,42.2,42.2,42.16,42.14,42.15,42.22,42.33,42.44,42.58,42.78],\"type\":\"scatter\"}],                        {\"template\":{\"data\":{\"histogram2dcontour\":[{\"type\":\"histogram2dcontour\",\"colorbar\":{\"outlinewidth\":0,\"ticks\":\"\"},\"colorscale\":[[0.0,\"#0d0887\"],[0.1111111111111111,\"#46039f\"],[0.2222222222222222,\"#7201a8\"],[0.3333333333333333,\"#9c179e\"],[0.4444444444444444,\"#bd3786\"],[0.5555555555555556,\"#d8576b\"],[0.6666666666666666,\"#ed7953\"],[0.7777777777777778,\"#fb9f3a\"],[0.8888888888888888,\"#fdca26\"],[1.0,\"#f0f921\"]]}],\"choropleth\":[{\"type\":\"choropleth\",\"colorbar\":{\"outlinewidth\":0,\"ticks\":\"\"}}],\"histogram2d\":[{\"type\":\"histogram2d\",\"colorbar\":{\"outlinewidth\":0,\"ticks\":\"\"},\"colorscale\":[[0.0,\"#0d0887\"],[0.1111111111111111,\"#46039f\"],[0.2222222222222222,\"#7201a8\"],[0.3333333333333333,\"#9c179e\"],[0.4444444444444444,\"#bd3786\"],[0.5555555555555556,\"#d8576b\"],[0.6666666666666666,\"#ed7953\"],[0.7777777777777778,\"#fb9f3a\"],[0.8888888888888888,\"#fdca26\"],[1.0,\"#f0f921\"]]}],\"heatmap\":[{\"type\":\"heatmap\",\"colorbar\":{\"outlinewidth\":0,\"ticks\":\"\"},\"colorscale\":[[0.0,\"#0d0887\"],[0.1111111111111111,\"#46039f\"],[0.2222222222222222,\"#7201a8\"],[0.3333333333333333,\"#9c179e\"],[0.4444444444444444,\"#bd3786\"],[0.5555555555555556,\"#d8576b\"],[0.6666666666666666,\"#ed7953\"],[0.7777777777777778,\"#fb9f3a\"],[0.8888888888888888,\"#fdca26\"],[1.0,\"#f0f921\"]]}],\"heatmapgl\":[{\"type\":\"heatmapgl\",\"colorbar\":{\"outlinewidth\":0,\"ticks\":\"\"},\"colorscale\":[[0.0,\"#0d0887\"],[0.1111111111111111,\"#46039f\"],[0.2222222222222222,\"#7201a8\"],[0.3333333333333333,\"#9c179e\"],[0.4444444444444444,\"#bd3786\"],[0.5555555555555556,\"#d8576b\"],[0.6666666666666666,\"#ed7953\"],[0.7777777777777778,\"#fb9f3a\"],[0.8888888888888888,\"#fdca26\"],[1.0,\"#f0f921\"]]}],\"contourcarpet\":[{\"type\":\"contourcarpet\",\"colorbar\":{\"outlinewidth\":0,\"ticks\":\"\"}}],\"contour\":[{\"type\":\"contour\",\"colorbar\":{\"outlinewidth\":0,\"ticks\":\"\"},\"colorscale\":[[0.0,\"#0d0887\"],[0.1111111111111111,\"#46039f\"],[0.2222222222222222,\"#7201a8\"],[0.3333333333333333,\"#9c179e\"],[0.4444444444444444,\"#bd3786\"],[0.5555555555555556,\"#d8576b\"],[0.6666666666666666,\"#ed7953\"],[0.7777777777777778,\"#fb9f3a\"],[0.8888888888888888,\"#fdca26\"],[1.0,\"#f0f921\"]]}],\"surface\":[{\"type\":\"surface\",\"colorbar\":{\"outlinewidth\":0,\"ticks\":\"\"},\"colorscale\":[[0.0,\"#0d0887\"],[0.1111111111111111,\"#46039f\"],[0.2222222222222222,\"#7201a8\"],[0.3333333333333333,\"#9c179e\"],[0.4444444444444444,\"#bd3786\"],[0.5555555555555556,\"#d8576b\"],[0.6666666666666666,\"#ed7953\"],[0.7777777777777778,\"#fb9f3a\"],[0.8888888888888888,\"#fdca26\"],[1.0,\"#f0f921\"]]}],\"mesh3d\":[{\"type\":\"mesh3d\",\"colorbar\":{\"outlinewidth\":0,\"ticks\":\"\"}}],\"scatter\":[{\"fillpattern\":{\"fillmode\":\"overlay\",\"size\":10,\"solidity\":0.2},\"type\":\"scatter\"}],\"parcoords\":[{\"type\":\"parcoords\",\"line\":{\"colorbar\":{\"outlinewidth\":0,\"ticks\":\"\"}}}],\"scatterpolargl\":[{\"type\":\"scatterpolargl\",\"marker\":{\"colorbar\":{\"outlinewidth\":0,\"ticks\":\"\"}}}],\"bar\":[{\"error_x\":{\"color\":\"#2a3f5f\"},\"error_y\":{\"color\":\"#2a3f5f\"},\"marker\":{\"line\":{\"color\":\"#E5ECF6\",\"width\":0.5},\"pattern\":{\"fillmode\":\"overlay\",\"size\":10,\"solidity\":0.2}},\"type\":\"bar\"}],\"scattergeo\":[{\"type\":\"scattergeo\",\"marker\":{\"colorbar\":{\"outlinewidth\":0,\"ticks\":\"\"}}}],\"scatterpolar\":[{\"type\":\"scatterpolar\",\"marker\":{\"colorbar\":{\"outlinewidth\":0,\"ticks\":\"\"}}}],\"histogram\":[{\"marker\":{\"pattern\":{\"fillmode\":\"overlay\",\"size\":10,\"solidity\":0.2}},\"type\":\"histogram\"}],\"scattergl\":[{\"type\":\"scattergl\",\"marker\":{\"colorbar\":{\"outlinewidth\":0,\"ticks\":\"\"}}}],\"scatter3d\":[{\"type\":\"scatter3d\",\"line\":{\"colorbar\":{\"outlinewidth\":0,\"ticks\":\"\"}},\"marker\":{\"colorbar\":{\"outlinewidth\":0,\"ticks\":\"\"}}}],\"scattermapbox\":[{\"type\":\"scattermapbox\",\"marker\":{\"colorbar\":{\"outlinewidth\":0,\"ticks\":\"\"}}}],\"scatterternary\":[{\"type\":\"scatterternary\",\"marker\":{\"colorbar\":{\"outlinewidth\":0,\"ticks\":\"\"}}}],\"scattercarpet\":[{\"type\":\"scattercarpet\",\"marker\":{\"colorbar\":{\"outlinewidth\":0,\"ticks\":\"\"}}}],\"carpet\":[{\"aaxis\":{\"endlinecolor\":\"#2a3f5f\",\"gridcolor\":\"white\",\"linecolor\":\"white\",\"minorgridcolor\":\"white\",\"startlinecolor\":\"#2a3f5f\"},\"baxis\":{\"endlinecolor\":\"#2a3f5f\",\"gridcolor\":\"white\",\"linecolor\":\"white\",\"minorgridcolor\":\"white\",\"startlinecolor\":\"#2a3f5f\"},\"type\":\"carpet\"}],\"table\":[{\"cells\":{\"fill\":{\"color\":\"#EBF0F8\"},\"line\":{\"color\":\"white\"}},\"header\":{\"fill\":{\"color\":\"#C8D4E3\"},\"line\":{\"color\":\"white\"}},\"type\":\"table\"}],\"barpolar\":[{\"marker\":{\"line\":{\"color\":\"#E5ECF6\",\"width\":0.5},\"pattern\":{\"fillmode\":\"overlay\",\"size\":10,\"solidity\":0.2}},\"type\":\"barpolar\"}],\"pie\":[{\"automargin\":true,\"type\":\"pie\"}]},\"layout\":{\"autotypenumbers\":\"strict\",\"colorway\":[\"#636efa\",\"#EF553B\",\"#00cc96\",\"#ab63fa\",\"#FFA15A\",\"#19d3f3\",\"#FF6692\",\"#B6E880\",\"#FF97FF\",\"#FECB52\"],\"font\":{\"color\":\"#2a3f5f\"},\"hovermode\":\"closest\",\"hoverlabel\":{\"align\":\"left\"},\"paper_bgcolor\":\"white\",\"plot_bgcolor\":\"#E5ECF6\",\"polar\":{\"bgcolor\":\"#E5ECF6\",\"angularaxis\":{\"gridcolor\":\"white\",\"linecolor\":\"white\",\"ticks\":\"\"},\"radialaxis\":{\"gridcolor\":\"white\",\"linecolor\":\"white\",\"ticks\":\"\"}},\"ternary\":{\"bgcolor\":\"#E5ECF6\",\"aaxis\":{\"gridcolor\":\"white\",\"linecolor\":\"white\",\"ticks\":\"\"},\"baxis\":{\"gridcolor\":\"white\",\"linecolor\":\"white\",\"ticks\":\"\"},\"caxis\":{\"gridcolor\":\"white\",\"linecolor\":\"white\",\"ticks\":\"\"}},\"coloraxis\":{\"colorbar\":{\"outlinewidth\":0,\"ticks\":\"\"}},\"colorscale\":{\"sequential\":[[0.0,\"#0d0887\"],[0.1111111111111111,\"#46039f\"],[0.2222222222222222,\"#7201a8\"],[0.3333333333333333,\"#9c179e\"],[0.4444444444444444,\"#bd3786\"],[0.5555555555555556,\"#d8576b\"],[0.6666666666666666,\"#ed7953\"],[0.7777777777777778,\"#fb9f3a\"],[0.8888888888888888,\"#fdca26\"],[1.0,\"#f0f921\"]],\"sequentialminus\":[[0.0,\"#0d0887\"],[0.1111111111111111,\"#46039f\"],[0.2222222222222222,\"#7201a8\"],[0.3333333333333333,\"#9c179e\"],[0.4444444444444444,\"#bd3786\"],[0.5555555555555556,\"#d8576b\"],[0.6666666666666666,\"#ed7953\"],[0.7777777777777778,\"#fb9f3a\"],[0.8888888888888888,\"#fdca26\"],[1.0,\"#f0f921\"]],\"diverging\":[[0,\"#8e0152\"],[0.1,\"#c51b7d\"],[0.2,\"#de77ae\"],[0.3,\"#f1b6da\"],[0.4,\"#fde0ef\"],[0.5,\"#f7f7f7\"],[0.6,\"#e6f5d0\"],[0.7,\"#b8e186\"],[0.8,\"#7fbc41\"],[0.9,\"#4d9221\"],[1,\"#276419\"]]},\"xaxis\":{\"gridcolor\":\"white\",\"linecolor\":\"white\",\"ticks\":\"\",\"title\":{\"standoff\":15},\"zerolinecolor\":\"white\",\"automargin\":true,\"zerolinewidth\":2},\"yaxis\":{\"gridcolor\":\"white\",\"linecolor\":\"white\",\"ticks\":\"\",\"title\":{\"standoff\":15},\"zerolinecolor\":\"white\",\"automargin\":true,\"zerolinewidth\":2},\"scene\":{\"xaxis\":{\"backgroundcolor\":\"#E5ECF6\",\"gridcolor\":\"white\",\"linecolor\":\"white\",\"showbackground\":true,\"ticks\":\"\",\"zerolinecolor\":\"white\",\"gridwidth\":2},\"yaxis\":{\"backgroundcolor\":\"#E5ECF6\",\"gridcolor\":\"white\",\"linecolor\":\"white\",\"showbackground\":true,\"ticks\":\"\",\"zerolinecolor\":\"white\",\"gridwidth\":2},\"zaxis\":{\"backgroundcolor\":\"#E5ECF6\",\"gridcolor\":\"white\",\"linecolor\":\"white\",\"showbackground\":true,\"ticks\":\"\",\"zerolinecolor\":\"white\",\"gridwidth\":2}},\"shapedefaults\":{\"line\":{\"color\":\"#2a3f5f\"}},\"annotationdefaults\":{\"arrowcolor\":\"#2a3f5f\",\"arrowhead\":0,\"arrowwidth\":1},\"geo\":{\"bgcolor\":\"white\",\"landcolor\":\"#E5ECF6\",\"subunitcolor\":\"white\",\"showland\":true,\"showlakes\":true,\"lakecolor\":\"white\"},\"title\":{\"x\":0.05},\"mapbox\":{\"style\":\"light\"}}},\"title\":{\"text\":\"Mean age over the years\"},\"xaxis\":{\"title\":{\"text\":\"Time\"}},\"yaxis\":{\"title\":{\"text\":\"Age\"}}},                        {\"responsive\": true}                    ).then(function(){\n",
       "                            \n",
       "var gd = document.getElementById('ce717fec-a628-42a8-a676-ba08645e5c90');\n",
       "var x = new MutationObserver(function (mutations, observer) {{\n",
       "        var display = window.getComputedStyle(gd).display;\n",
       "        if (!display || display === 'none') {{\n",
       "            console.log([gd, 'removed!']);\n",
       "            Plotly.purge(gd);\n",
       "            observer.disconnect();\n",
       "        }}\n",
       "}});\n",
       "\n",
       "// Listen for the removal of the full notebook cells\n",
       "var notebookContainer = gd.closest('#notebook-container');\n",
       "if (notebookContainer) {{\n",
       "    x.observe(notebookContainer, {childList: true});\n",
       "}}\n",
       "\n",
       "// Listen for the clearing of the current output cell\n",
       "var outputEl = gd.closest('.output');\n",
       "if (outputEl) {{\n",
       "    x.observe(outputEl, {childList: true});\n",
       "}}\n",
       "\n",
       "                        })                };                });            </script>        </div>"
      ]
     },
     "metadata": {},
     "output_type": "display_data"
    }
   ],
   "source": [
    "\n",
    "\n",
    "# Create a figure\n",
    "fig = go.Figure()\n",
    "\n",
    "# Add the first trace with blue color\n",
    "fig.add_trace(go.Scatter(\n",
    "    x=age_df.index, \n",
    "    y=age_df[('mean_age', 'Male')], \n",
    "    mode='lines', \n",
    "    name='Mean Male Age',\n",
    "    line=dict(dash='dash', width=2, color='blue')\n",
    "))\n",
    "\n",
    "# Add the second trace with red color\n",
    "fig.add_trace(go.Scatter(\n",
    "    x=age_df.index, \n",
    "    y=age_df[('mean_age', 'Female')], \n",
    "    mode='lines', \n",
    "    name='Mean Female Age',\n",
    "    line=dict(dash='dash', width=2, color='red')\n",
    "))\n",
    "\n",
    "# Customizations\n",
    "fig.update_layout(\n",
    "    title='Mean age over the years',\n",
    "    xaxis_title='Time',\n",
    "    yaxis_title='Age'\n",
    ")\n",
    "\n",
    "# Show the figure\n",
    "fig.show()\n"
   ]
  },
  {
   "cell_type": "code",
   "execution_count": 232,
   "id": "b1e4c6cf-a89a-4c60-b6f7-53758561b9f0",
   "metadata": {
    "tags": []
   },
   "outputs": [
    {
     "name": "stdout",
     "output_type": "stream",
     "text": [
      "<class 'pandas.core.frame.DataFrame'>\n",
      "Index: 56 entries, 1968 to 2023\n",
      "Data columns (total 6 columns):\n",
      " #   Column                Non-Null Count  Dtype  \n",
      "---  ------                --------------  -----  \n",
      " 0   (mean_age, Female)    56 non-null     float64\n",
      " 1   (mean_age, Male)      56 non-null     float64\n",
      " 2   (mean_age, Total)     56 non-null     float64\n",
      " 3   (median_age, Female)  56 non-null     float64\n",
      " 4   (median_age, Male)    56 non-null     float64\n",
      " 5   (median_age, Total)   56 non-null     float64\n",
      "dtypes: float64(6)\n",
      "memory usage: 5.1+ KB\n"
     ]
    }
   ],
   "source": [
    "age_df.info()"
   ]
  },
  {
   "cell_type": "code",
   "execution_count": 237,
   "id": "0cbf0501-c63e-4eb8-8d19-654b919f6c1a",
   "metadata": {
    "tags": []
   },
   "outputs": [
    {
     "data": {
      "text/plain": [
       "<Axes: xlabel='year'>"
      ]
     },
     "execution_count": 237,
     "metadata": {},
     "output_type": "execute_result"
    },
    {
     "data": {
      "image/png": "[encoded data removed]",
      "text/plain": [
       "<Figure size 640x480 with 1 Axes>"
      ]
     },
     "metadata": {},
     "output_type": "display_data"
    }
   ],
   "source": [
    "sweden_energy.plot()"
   ]
  },
  {
   "cell_type": "code",
   "execution_count": 258,
   "id": "1a56ccac-9965-414b-9a0b-b3762b5b26e4",
   "metadata": {
    "tags": []
   },
   "outputs": [
    {
     "data": {
      "text/plain": [
       "[{'id': 'AA', 'type': 'l', 'text': 'Ämnesövergripande statistik'},\n",
       " {'id': 'AM', 'type': 'l', 'text': 'Arbetsmarknad'},\n",
       " {'id': 'BE', 'type': 'l', 'text': 'Befolkning'},\n",
       " {'id': 'BO', 'type': 'l', 'text': 'Boende, byggande och bebyggelse'},\n",
       " {'id': 'EN', 'type': 'l', 'text': 'Energi'},\n",
       " {'id': 'FM', 'type': 'l', 'text': 'Finansmarknad'},\n",
       " {'id': 'HA', 'type': 'l', 'text': 'Handel med varor och tjänster'},\n",
       " {'id': 'HE', 'type': 'l', 'text': 'Hushållens ekonomi'},\n",
       " {'id': 'HS', 'type': 'l', 'text': 'Hälso- och sjukvård'},\n",
       " {'id': 'JO', 'type': 'l', 'text': 'Jord- och skogsbruk, fiske'},\n",
       " {'id': 'KU', 'type': 'l', 'text': 'Kultur och fritid'},\n",
       " {'id': 'LE', 'type': 'l', 'text': 'Levnadsförhållanden'},\n",
       " {'id': 'ME', 'type': 'l', 'text': 'Demokrati'},\n",
       " {'id': 'MI', 'type': 'l', 'text': 'Miljö'},\n",
       " {'id': 'NR', 'type': 'l', 'text': 'Nationalräkenskaper'},\n",
       " {'id': 'NV', 'type': 'l', 'text': 'Näringsverksamhet'},\n",
       " {'id': 'OE', 'type': 'l', 'text': 'Offentlig ekonomi'},\n",
       " {'id': 'PR', 'type': 'l', 'text': 'Priser och konsumtion'},\n",
       " {'id': 'SO', 'type': 'l', 'text': 'Socialtjänst'},\n",
       " {'id': 'TK', 'type': 'l', 'text': 'Transporter och kommunikationer'},\n",
       " {'id': 'UF', 'type': 'l', 'text': 'Utbildning och forskning'}]"
      ]
     },
     "execution_count": 258,
     "metadata": {},
     "output_type": "execute_result"
    }
   ],
   "source": [
    "scb = SCB('sv')\n",
    "scb.info()"
   ]
  },
  {
   "cell_type": "code",
   "execution_count": 259,
   "id": "cd056a1f-026b-417b-9448-960c7126edb8",
   "metadata": {
    "tags": []
   },
   "outputs": [
    {
     "data": {
      "text/plain": [
       "[{'id': 'BE0001', 'type': 'l', 'text': 'Namnstatistik'},\n",
       " {'id': 'BE0101', 'type': 'l', 'text': 'Befolkningsstatistik'},\n",
       " {'id': 'BE0205',\n",
       "  'type': 'l',\n",
       "  'text': 'Tidigare folk- och bostadsräkningar 1960-1990 (FoB)'},\n",
       " {'id': 'BE0401', 'type': 'l', 'text': 'Befolkningsframskrivningar'},\n",
       " {'id': 'BE0701', 'type': 'l', 'text': 'Demografisk analys (Demografi)'}]"
      ]
     },
     "execution_count": 259,
     "metadata": {},
     "output_type": "execute_result"
    }
   ],
   "source": [
    "scb.go_down('BE')\n",
    "scb.info()"
   ]
  },
  {
   "cell_type": "code",
   "execution_count": 260,
   "id": "1c77f19d-3b6f-4ddd-a10b-2bd798f308c9",
   "metadata": {
    "tags": []
   },
   "outputs": [
    {
     "data": {
      "text/plain": [
       "[{'id': 'BE0101A', 'type': 'l', 'text': 'Folkmängd'},\n",
       " {'id': 'BE0101G', 'type': 'l', 'text': 'Befolkningsförändringar'},\n",
       " {'id': 'BE0101H', 'type': 'l', 'text': 'Födda'},\n",
       " {'id': 'BE0101I', 'type': 'l', 'text': 'Döda'},\n",
       " {'id': 'BE0101J', 'type': 'l', 'text': 'Flyttningar - inrikes och utrikes'},\n",
       " {'id': 'BE0101D', 'type': 'l', 'text': 'Medelfolkmängd'},\n",
       " {'id': 'BE0101E', 'type': 'l', 'text': 'Utrikes födda'},\n",
       " {'id': 'BE0101F', 'type': 'l', 'text': 'Utländska medborgare'},\n",
       " {'id': 'BE0101Q', 'type': 'l', 'text': 'Utländsk/svensk bakgrund'},\n",
       " {'id': 'BE0101N', 'type': 'l', 'text': 'Medborgarskapsbyten'},\n",
       " {'id': 'BE0101B', 'type': 'l', 'text': 'Medelålder'},\n",
       " {'id': 'BE0101L', 'type': 'l', 'text': 'Gifta, Skilda och Änka/änkling'},\n",
       " {'id': 'BE0101O', 'type': 'l', 'text': 'Partnerskap'},\n",
       " {'id': 'BE0101S', 'type': 'l', 'text': 'Hushåll'},\n",
       " {'id': 'BE0101K', 'type': 'l', 'text': 'Adopterade'},\n",
       " {'id': 'BE0101M',\n",
       "  'type': 'l',\n",
       "  'text': 'Cirkulär migration – Äldre tabeller som inte längre uppdateras'},\n",
       " {'id': 'BE0101P', 'type': 'l', 'text': 'Asylsökande'},\n",
       " {'id': 'BE0101C', 'type': 'l', 'text': 'Befolkningstäthet'},\n",
       " {'id': 'BE0101X', 'type': 'l', 'text': 'Nyckeltal'},\n",
       " {'id': 'BE0101Y',\n",
       "  'type': 'l',\n",
       "  'text': 'Regional statistik på lägre nivå än kommun (DeSO/RegSO)'}]"
      ]
     },
     "execution_count": 260,
     "metadata": {},
     "output_type": "execute_result"
    }
   ],
   "source": [
    "scb.go_down('BE0101')\n",
    "scb.info()"
   ]
  },
  {
   "cell_type": "code",
   "execution_count": null,
   "id": "3e40fa99-ee37-48ed-bbe6-d99b1d581611",
   "metadata": {
    "tags": []
   },
   "outputs": [],
   "source": [
    "scb.go_down('BE0101A')\n",
    "scb.info()"
   ]
  },
  {
   "cell_type": "code",
   "execution_count": null,
   "id": "15d568f2-eac0-4e20-a5fc-c8cd7afb4031",
   "metadata": {},
   "outputs": [],
   "source": []
  }
 ],
 "metadata": {
  "kernelspec": {
   "display_name": "Python 3 (ipykernel)",
   "language": "python",
   "name": "python3"
  },
  "language_info": {
   "codemirror_mode": {
    "name": "ipython",
    "version": 3
   },
   "file_extension": ".py",
   "mimetype": "text/x-python",
   "name": "python",
   "nbconvert_exporter": "python",
   "pygments_lexer": "ipython3",
   "version": "3.11.5"
  }
 },
 "nbformat": 4,
 "nbformat_minor": 5
}
